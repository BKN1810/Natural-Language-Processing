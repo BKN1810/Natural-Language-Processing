{
 "cells": [
  {
   "cell_type": "markdown",
   "id": "38351354",
   "metadata": {},
   "source": [
    "## Execute lower() function on the text data"
   ]
  },
  {
   "cell_type": "code",
   "execution_count": 1,
   "id": "17b331d9",
   "metadata": {},
   "outputs": [],
   "source": [
    "text=['This is introduction to NLP'\n",
    "      'It is likely to be useful,to people ',\n",
    "       'Machine learning is the new electrcity',\n",
    "       'There would be less hype around AI and more action going FORWARD',\n",
    "        'python is the best tool!',\n",
    "        'R is good langauage',\n",
    "        'I like this BOOK',\n",
    "         'I want more books LIKE this']"
   ]
  },
  {
   "cell_type": "code",
   "execution_count": 2,
   "id": "0010af8b",
   "metadata": {},
   "outputs": [
    {
     "name": "stdout",
     "output_type": "stream",
     "text": [
      "testing to lower case for nlp programming.\n"
     ]
    }
   ],
   "source": [
    "text1 = 'Testing To Lower Case for NLP PROGRAMMING.'\n",
    "text2 = text1.lower()\n",
    "print(text2)"
   ]
  },
  {
   "cell_type": "code",
   "execution_count": 21,
   "id": "cb94d7d8",
   "metadata": {},
   "outputs": [
    {
     "name": "stdout",
     "output_type": "stream",
     "text": [
      "this is introduction to nlp\n",
      "it is likely to be useful,to people \n",
      "machine learning is the new electrcity\n",
      "there would be less hype around ai and more action going forward\n",
      "python is the best tool!\n",
      "r is good langauage\n",
      "i like this book\n",
      "i want more books like this\n"
     ]
    }
   ],
   "source": [
    "for txt in text:\n",
    "    text2 = txt.lower()\n",
    "    print(text2)"
   ]
  },
  {
   "cell_type": "markdown",
   "id": "a528180a",
   "metadata": {},
   "source": [
    "## Custom function for text standardization"
   ]
  },
  {
   "cell_type": "code",
   "execution_count": 39,
   "id": "208c38a1",
   "metadata": {},
   "outputs": [],
   "source": [
    "import re\n",
    "lookup_dict = {'nlp':'natural language processing',\n",
    "                'ur':'your',\n",
    "                'wbu' : 'what about you',\n",
    "                'can\\'t': 'can not'}\n",
    "\n",
    "def text_std(input_text):\n",
    "    words = input_text.split()\n",
    "    new_words = []\n",
    "    for word in words:\n",
    "        #print(len(word))\n",
    "        word = re.sub(r'[^\\w\\s]',\" \",word)\n",
    "        #print(len(word))\n",
    "        if word.lower() in lookup_dict:\n",
    "            word1 = lookup_dict[word.lower()]\n",
    "            \n",
    "            new_words.append(word1)\n",
    "            new_text = \" \".join(new_words)\n",
    "            #print(new_text)\n",
    "            \n",
    "            input_text=re.sub(word, word1, input_text)\n",
    "            print(\"word : \",word)\n",
    "            print(\"word 1: \",word1)\n",
    "            print(\"input_text:  \",input_text)\n",
    "    return [new_text,input_text]"
   ]
  },
  {
   "cell_type": "code",
   "execution_count": 40,
   "id": "2c78c624",
   "metadata": {},
   "outputs": [
    {
     "name": "stdout",
     "output_type": "stream",
     "text": [
      "word :  nlp\n",
      "word 1:  natural language processing\n",
      "input_text:   I like natural language processing it's ur choice. Hello wbu ? I can't do this.\n",
      "word :  ur\n",
      "word 1:  your\n",
      "input_text:   I like natyoural language processing it's your choice. Hello wbu ? I can't do this.\n",
      "word :  wbu\n",
      "word 1:  what about you\n",
      "input_text:   I like natyoural language processing it's your choice. Hello what about you ? I can't do this.\n"
     ]
    },
    {
     "data": {
      "text/plain": [
       "['natural language processing your what about you',\n",
       " \"I like natyoural language processing it's your choice. Hello what about you ? I can't do this.\"]"
      ]
     },
     "execution_count": 40,
     "metadata": {},
     "output_type": "execute_result"
    }
   ],
   "source": [
    "txt=text_std(r\"I like nlp it's ur choice. Hello wbu ? I can't do this.\") # function call\n",
    "txt"
   ]
  },
  {
   "cell_type": "code",
   "execution_count": null,
   "id": "ccca9fba",
   "metadata": {},
   "outputs": [],
   "source": []
  }
 ],
 "metadata": {
  "kernelspec": {
   "display_name": "Python 3",
   "language": "python",
   "name": "python3"
  },
  "language_info": {
   "codemirror_mode": {
    "name": "ipython",
    "version": 3
   },
   "file_extension": ".py",
   "mimetype": "text/x-python",
   "name": "python",
   "nbconvert_exporter": "python",
   "pygments_lexer": "ipython3",
   "version": "3.8.8"
  }
 },
 "nbformat": 4,
 "nbformat_minor": 5
}

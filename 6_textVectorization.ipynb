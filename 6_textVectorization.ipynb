{
 "cells": [
  {
   "cell_type": "markdown",
   "id": "85eab0fc",
   "metadata": {},
   "source": [
    "### One Hot Encoding"
   ]
  },
  {
   "cell_type": "code",
   "execution_count": 1,
   "id": "65bfb5e1",
   "metadata": {},
   "outputs": [],
   "source": [
    "import pandas as pd\n",
    "import numpy as np"
   ]
  },
  {
   "cell_type": "code",
   "execution_count": 15,
   "id": "dcd09e94",
   "metadata": {
    "scrolled": true
   },
   "outputs": [
    {
     "data": {
      "text/html": [
       "<div>\n",
       "<style scoped>\n",
       "    .dataframe tbody tr th:only-of-type {\n",
       "        vertical-align: middle;\n",
       "    }\n",
       "\n",
       "    .dataframe tbody tr th {\n",
       "        vertical-align: top;\n",
       "    }\n",
       "\n",
       "    .dataframe thead th {\n",
       "        text-align: right;\n",
       "    }\n",
       "</style>\n",
       "<table border=\"1\" class=\"dataframe\">\n",
       "  <thead>\n",
       "    <tr style=\"text-align: right;\">\n",
       "      <th></th>\n",
       "      <th>I</th>\n",
       "      <th>NLP</th>\n",
       "      <th>Python</th>\n",
       "      <th>am</th>\n",
       "      <th>in</th>\n",
       "      <th>teaching</th>\n",
       "    </tr>\n",
       "  </thead>\n",
       "  <tbody>\n",
       "    <tr>\n",
       "      <th>0</th>\n",
       "      <td>1</td>\n",
       "      <td>0</td>\n",
       "      <td>0</td>\n",
       "      <td>0</td>\n",
       "      <td>0</td>\n",
       "      <td>0</td>\n",
       "    </tr>\n",
       "    <tr>\n",
       "      <th>1</th>\n",
       "      <td>0</td>\n",
       "      <td>0</td>\n",
       "      <td>0</td>\n",
       "      <td>1</td>\n",
       "      <td>0</td>\n",
       "      <td>0</td>\n",
       "    </tr>\n",
       "    <tr>\n",
       "      <th>2</th>\n",
       "      <td>0</td>\n",
       "      <td>0</td>\n",
       "      <td>0</td>\n",
       "      <td>0</td>\n",
       "      <td>0</td>\n",
       "      <td>1</td>\n",
       "    </tr>\n",
       "    <tr>\n",
       "      <th>3</th>\n",
       "      <td>0</td>\n",
       "      <td>1</td>\n",
       "      <td>0</td>\n",
       "      <td>0</td>\n",
       "      <td>0</td>\n",
       "      <td>0</td>\n",
       "    </tr>\n",
       "    <tr>\n",
       "      <th>4</th>\n",
       "      <td>0</td>\n",
       "      <td>0</td>\n",
       "      <td>0</td>\n",
       "      <td>0</td>\n",
       "      <td>1</td>\n",
       "      <td>0</td>\n",
       "    </tr>\n",
       "    <tr>\n",
       "      <th>5</th>\n",
       "      <td>0</td>\n",
       "      <td>0</td>\n",
       "      <td>1</td>\n",
       "      <td>0</td>\n",
       "      <td>0</td>\n",
       "      <td>0</td>\n",
       "    </tr>\n",
       "  </tbody>\n",
       "</table>\n",
       "</div>"
      ],
      "text/plain": [
       "   I  NLP  Python  am  in  teaching\n",
       "0  1    0       0   0   0         0\n",
       "1  0    0       0   1   0         0\n",
       "2  0    0       0   0   0         1\n",
       "3  0    1       0   0   0         0\n",
       "4  0    0       0   0   1         0\n",
       "5  0    0       1   0   0         0"
      ]
     },
     "execution_count": 15,
     "metadata": {},
     "output_type": "execute_result"
    }
   ],
   "source": [
    "Text = \"I am teaching NLP in Python\"\n",
    "pd.get_dummies(Text.split()) "
   ]
  },
  {
   "cell_type": "code",
   "execution_count": 37,
   "id": "f2ab3ae7",
   "metadata": {},
   "outputs": [
    {
     "data": {
      "text/html": [
       "<div>\n",
       "<style scoped>\n",
       "    .dataframe tbody tr th:only-of-type {\n",
       "        vertical-align: middle;\n",
       "    }\n",
       "\n",
       "    .dataframe tbody tr th {\n",
       "        vertical-align: top;\n",
       "    }\n",
       "\n",
       "    .dataframe thead th {\n",
       "        text-align: right;\n",
       "    }\n",
       "</style>\n",
       "<table border=\"1\" class=\"dataframe\">\n",
       "  <thead>\n",
       "    <tr style=\"text-align: right;\">\n",
       "      <th></th>\n",
       "      <th>I</th>\n",
       "      <th>NLP</th>\n",
       "      <th>Python.</th>\n",
       "      <th>Students</th>\n",
       "      <th>am</th>\n",
       "      <th>are</th>\n",
       "      <th>in</th>\n",
       "      <th>learning</th>\n",
       "      <th>python.</th>\n",
       "      <th>teaching</th>\n",
       "    </tr>\n",
       "  </thead>\n",
       "  <tbody>\n",
       "    <tr>\n",
       "      <th>0</th>\n",
       "      <td>1</td>\n",
       "      <td>0</td>\n",
       "      <td>0</td>\n",
       "      <td>0</td>\n",
       "      <td>0</td>\n",
       "      <td>0</td>\n",
       "      <td>0</td>\n",
       "      <td>0</td>\n",
       "      <td>0</td>\n",
       "      <td>0</td>\n",
       "    </tr>\n",
       "    <tr>\n",
       "      <th>1</th>\n",
       "      <td>0</td>\n",
       "      <td>0</td>\n",
       "      <td>0</td>\n",
       "      <td>0</td>\n",
       "      <td>1</td>\n",
       "      <td>0</td>\n",
       "      <td>0</td>\n",
       "      <td>0</td>\n",
       "      <td>0</td>\n",
       "      <td>0</td>\n",
       "    </tr>\n",
       "    <tr>\n",
       "      <th>2</th>\n",
       "      <td>0</td>\n",
       "      <td>0</td>\n",
       "      <td>0</td>\n",
       "      <td>0</td>\n",
       "      <td>0</td>\n",
       "      <td>0</td>\n",
       "      <td>0</td>\n",
       "      <td>0</td>\n",
       "      <td>0</td>\n",
       "      <td>1</td>\n",
       "    </tr>\n",
       "    <tr>\n",
       "      <th>3</th>\n",
       "      <td>0</td>\n",
       "      <td>1</td>\n",
       "      <td>0</td>\n",
       "      <td>0</td>\n",
       "      <td>0</td>\n",
       "      <td>0</td>\n",
       "      <td>0</td>\n",
       "      <td>0</td>\n",
       "      <td>0</td>\n",
       "      <td>0</td>\n",
       "    </tr>\n",
       "    <tr>\n",
       "      <th>4</th>\n",
       "      <td>0</td>\n",
       "      <td>0</td>\n",
       "      <td>0</td>\n",
       "      <td>0</td>\n",
       "      <td>0</td>\n",
       "      <td>0</td>\n",
       "      <td>1</td>\n",
       "      <td>0</td>\n",
       "      <td>0</td>\n",
       "      <td>0</td>\n",
       "    </tr>\n",
       "    <tr>\n",
       "      <th>5</th>\n",
       "      <td>0</td>\n",
       "      <td>0</td>\n",
       "      <td>1</td>\n",
       "      <td>0</td>\n",
       "      <td>0</td>\n",
       "      <td>0</td>\n",
       "      <td>0</td>\n",
       "      <td>0</td>\n",
       "      <td>0</td>\n",
       "      <td>0</td>\n",
       "    </tr>\n",
       "    <tr>\n",
       "      <th>6</th>\n",
       "      <td>0</td>\n",
       "      <td>0</td>\n",
       "      <td>0</td>\n",
       "      <td>1</td>\n",
       "      <td>0</td>\n",
       "      <td>0</td>\n",
       "      <td>0</td>\n",
       "      <td>0</td>\n",
       "      <td>0</td>\n",
       "      <td>0</td>\n",
       "    </tr>\n",
       "    <tr>\n",
       "      <th>7</th>\n",
       "      <td>0</td>\n",
       "      <td>0</td>\n",
       "      <td>0</td>\n",
       "      <td>0</td>\n",
       "      <td>0</td>\n",
       "      <td>1</td>\n",
       "      <td>0</td>\n",
       "      <td>0</td>\n",
       "      <td>0</td>\n",
       "      <td>0</td>\n",
       "    </tr>\n",
       "    <tr>\n",
       "      <th>8</th>\n",
       "      <td>0</td>\n",
       "      <td>0</td>\n",
       "      <td>0</td>\n",
       "      <td>0</td>\n",
       "      <td>0</td>\n",
       "      <td>0</td>\n",
       "      <td>0</td>\n",
       "      <td>1</td>\n",
       "      <td>0</td>\n",
       "      <td>0</td>\n",
       "    </tr>\n",
       "    <tr>\n",
       "      <th>9</th>\n",
       "      <td>0</td>\n",
       "      <td>1</td>\n",
       "      <td>0</td>\n",
       "      <td>0</td>\n",
       "      <td>0</td>\n",
       "      <td>0</td>\n",
       "      <td>0</td>\n",
       "      <td>0</td>\n",
       "      <td>0</td>\n",
       "      <td>0</td>\n",
       "    </tr>\n",
       "    <tr>\n",
       "      <th>10</th>\n",
       "      <td>0</td>\n",
       "      <td>0</td>\n",
       "      <td>0</td>\n",
       "      <td>0</td>\n",
       "      <td>0</td>\n",
       "      <td>0</td>\n",
       "      <td>1</td>\n",
       "      <td>0</td>\n",
       "      <td>0</td>\n",
       "      <td>0</td>\n",
       "    </tr>\n",
       "    <tr>\n",
       "      <th>11</th>\n",
       "      <td>0</td>\n",
       "      <td>0</td>\n",
       "      <td>0</td>\n",
       "      <td>0</td>\n",
       "      <td>0</td>\n",
       "      <td>0</td>\n",
       "      <td>0</td>\n",
       "      <td>0</td>\n",
       "      <td>1</td>\n",
       "      <td>0</td>\n",
       "    </tr>\n",
       "  </tbody>\n",
       "</table>\n",
       "</div>"
      ],
      "text/plain": [
       "    I  NLP  Python.  Students  am  are  in  learning  python.  teaching\n",
       "0   1    0        0         0   0    0   0         0        0         0\n",
       "1   0    0        0         0   1    0   0         0        0         0\n",
       "2   0    0        0         0   0    0   0         0        0         1\n",
       "3   0    1        0         0   0    0   0         0        0         0\n",
       "4   0    0        0         0   0    0   1         0        0         0\n",
       "5   0    0        1         0   0    0   0         0        0         0\n",
       "6   0    0        0         1   0    0   0         0        0         0\n",
       "7   0    0        0         0   0    1   0         0        0         0\n",
       "8   0    0        0         0   0    0   0         1        0         0\n",
       "9   0    1        0         0   0    0   0         0        0         0\n",
       "10  0    0        0         0   0    0   1         0        0         0\n",
       "11  0    0        0         0   0    0   0         0        1         0"
      ]
     },
     "execution_count": 37,
     "metadata": {},
     "output_type": "execute_result"
    }
   ],
   "source": [
    "Text = \"I am teaching NLP in Python.Students are learning NLP in python.\"\n",
    "pd.get_dummies(Text.split()) "
   ]
  },
  {
   "cell_type": "code",
   "execution_count": 55,
   "id": "175fc8a4",
   "metadata": {},
   "outputs": [
    {
     "data": {
      "text/plain": [
       "['I',\n",
       " 'am',\n",
       " 'teaching',\n",
       " 'NLP',\n",
       " 'in',\n",
       " 'Python',\n",
       " 'Students',\n",
       " 'are',\n",
       " 'learning',\n",
       " 'NLP',\n",
       " 'in',\n",
       " 'python']"
      ]
     },
     "execution_count": 55,
     "metadata": {},
     "output_type": "execute_result"
    }
   ],
   "source": [
    "import re\n",
    "lst=re.findall(r'\\w+', Text)\n",
    "lst"
   ]
  },
  {
   "cell_type": "code",
   "execution_count": 58,
   "id": "45d11b77",
   "metadata": {},
   "outputs": [
    {
     "name": "stdout",
     "output_type": "stream",
     "text": [
      "[0 4 9 1 6 2 3 5 7 1 6 8]\n",
      "[[1. 0. 0. 0. 0. 0. 0. 0. 0. 0.]\n",
      " [0. 0. 0. 0. 1. 0. 0. 0. 0. 0.]\n",
      " [0. 0. 0. 0. 0. 0. 0. 0. 0. 1.]\n",
      " [0. 1. 0. 0. 0. 0. 0. 0. 0. 0.]\n",
      " [0. 0. 0. 0. 0. 0. 1. 0. 0. 0.]\n",
      " [0. 0. 1. 0. 0. 0. 0. 0. 0. 0.]\n",
      " [0. 0. 0. 1. 0. 0. 0. 0. 0. 0.]\n",
      " [0. 0. 0. 0. 0. 1. 0. 0. 0. 0.]\n",
      " [0. 0. 0. 0. 0. 0. 0. 1. 0. 0.]\n",
      " [0. 1. 0. 0. 0. 0. 0. 0. 0. 0.]\n",
      " [0. 0. 0. 0. 0. 0. 1. 0. 0. 0.]\n",
      " [0. 0. 0. 0. 0. 0. 0. 0. 1. 0.]]\n",
      "['NLP']\n",
      "['Python']\n"
     ]
    }
   ],
   "source": [
    "from numpy import array\n",
    "from numpy import argmax\n",
    "from sklearn.preprocessing import LabelEncoder\n",
    "from sklearn.preprocessing import OneHotEncoder\n",
    "\n",
    "# integer encode\n",
    "label_encoder = LabelEncoder()\n",
    "integer_encoded = label_encoder.fit_transform(values)\n",
    "print(integer_encoded)\n",
    "\n",
    "# binary encode\n",
    "onehot_encoder = OneHotEncoder(sparse=False)\n",
    "integer_encoded = integer_encoded.reshape(len(integer_encoded), 1)\n",
    "onehot_encoded = onehot_encoder.fit_transform(integer_encoded)\n",
    "print(onehot_encoded)\n",
    "\n",
    "# invert first example\n",
    "inverted = label_encoder.inverse_transform([argmax(onehot_encoded[9, :])])\n",
    "print(inverted)\n",
    "\n",
    "inverted = label_encoder.inverse_transform([argmax(onehot_encoded[5, :])])\n",
    "print(inverted)"
   ]
  },
  {
   "cell_type": "code",
   "execution_count": 60,
   "id": "64b9b35d",
   "metadata": {},
   "outputs": [
    {
     "name": "stdout",
     "output_type": "stream",
     "text": [
      "[1 3 2 0 3 2 2 1 0 1]\n",
      "[[0. 1. 0. 0.]\n",
      " [0. 0. 0. 1.]\n",
      " [0. 0. 1. 0.]\n",
      " [1. 0. 0. 0.]\n",
      " [0. 0. 0. 1.]\n",
      " [0. 0. 1. 0.]\n",
      " [0. 0. 1. 0.]\n",
      " [0. 1. 0. 0.]\n",
      " [1. 0. 0. 0.]\n",
      " [0. 1. 0. 0.]]\n",
      "1\n"
     ]
    }
   ],
   "source": [
    "from numpy import array\n",
    "from numpy import argmax\n",
    "from keras.utils import to_categorical\n",
    "\n",
    "# define example\n",
    "data = [1, 3, 2, 0, 3, 2, 2, 1, 0, 1]\n",
    "data = array(data)\n",
    "print(data)\n",
    "\n",
    "# one hot encode\n",
    "encoded = to_categorical(data)\n",
    "print(encoded)\n",
    "\n",
    "# invert encoding\n",
    "inverted = argmax(encoded[0])\n",
    "print(inverted)"
   ]
  },
  {
   "cell_type": "code",
   "execution_count": 63,
   "id": "dcec5a3f",
   "metadata": {},
   "outputs": [
    {
     "name": "stdout",
     "output_type": "stream",
     "text": [
      "['Small' 'Small' 'Large' 'Small' 'XL' 'XL' 'Large' 'Small' 'Large' 'XL']\n"
     ]
    }
   ],
   "source": [
    "# define example\n",
    "data = [\"Small\" , \"Small\" , \"Large\" , \"Small\" , \"XL\" , \"XL\" , \"Large\" , \"Small\" , \"Large\" , \"XL\" ]\n",
    "values = array(data)\n",
    "print(values)"
   ]
  },
  {
   "cell_type": "code",
   "execution_count": 64,
   "id": "96e49967",
   "metadata": {},
   "outputs": [
    {
     "name": "stdout",
     "output_type": "stream",
     "text": [
      "[1 1 0 1 2 2 0 1 0 2]\n"
     ]
    }
   ],
   "source": [
    "# integer encode\n",
    "label_encoder = LabelEncoder()\n",
    "integer_encoded = label_encoder.fit_transform(values)\n",
    "print(integer_encoded)"
   ]
  },
  {
   "cell_type": "code",
   "execution_count": 65,
   "id": "6764e46b",
   "metadata": {},
   "outputs": [
    {
     "data": {
      "text/plain": [
       "array(['Small', 'Small', 'Large', 'Small', 'XL', 'XL', 'Large', 'Small',\n",
       "       'Large', 'XL'], dtype='<U5')"
      ]
     },
     "execution_count": 65,
     "metadata": {},
     "output_type": "execute_result"
    }
   ],
   "source": [
    "inverse=label_encoder.inverse_transform(integer_encoded)\n",
    "inverse"
   ]
  },
  {
   "cell_type": "code",
   "execution_count": 66,
   "id": "c4776e20",
   "metadata": {},
   "outputs": [
    {
     "name": "stdout",
     "output_type": "stream",
     "text": [
      "[[1]\n",
      " [1]\n",
      " [0]\n",
      " [1]\n",
      " [2]\n",
      " [2]\n",
      " [0]\n",
      " [1]\n",
      " [0]\n",
      " [2]]\n"
     ]
    }
   ],
   "source": [
    "# binary encode\n",
    "onehot_encoder = OneHotEncoder(sparse=False)\n",
    "integer_encoded = integer_encoded.reshape(len(integer_encoded), 1)\n",
    "print(integer_encoded)"
   ]
  },
  {
   "cell_type": "code",
   "execution_count": 67,
   "id": "c9b41725",
   "metadata": {},
   "outputs": [
    {
     "name": "stdout",
     "output_type": "stream",
     "text": [
      "[[0. 1. 0.]\n",
      " [0. 1. 0.]\n",
      " [1. 0. 0.]\n",
      " [0. 1. 0.]\n",
      " [0. 0. 1.]\n",
      " [0. 0. 1.]\n",
      " [1. 0. 0.]\n",
      " [0. 1. 0.]\n",
      " [1. 0. 0.]\n",
      " [0. 0. 1.]]\n"
     ]
    }
   ],
   "source": [
    "onehot_encoded = onehot_encoder.fit_transform(integer_encoded)\n",
    "print(onehot_encoded)"
   ]
  },
  {
   "cell_type": "markdown",
   "id": "0582131b",
   "metadata": {},
   "source": [
    "### Bag-of-Words- Count Vectorizer"
   ]
  },
  {
   "cell_type": "code",
   "execution_count": 68,
   "id": "9db63e60",
   "metadata": {},
   "outputs": [],
   "source": [
    "from sklearn.feature_extraction.text import CountVectorizer"
   ]
  },
  {
   "cell_type": "code",
   "execution_count": 84,
   "id": "7aac50d7",
   "metadata": {},
   "outputs": [],
   "source": [
    "documemts = ['This is the first document.','This document is the second document.',\n",
    "             'And this is the third one.','In this way there are so many documents.']"
   ]
  },
  {
   "cell_type": "code",
   "execution_count": 85,
   "id": "f62ba2c9",
   "metadata": {},
   "outputs": [],
   "source": [
    "vectorizer = CountVectorizer()\n",
    "features = vectorizer.fit_transform(documemts)"
   ]
  },
  {
   "cell_type": "code",
   "execution_count": 86,
   "id": "a2669fe1",
   "metadata": {},
   "outputs": [
    {
     "name": "stdout",
     "output_type": "stream",
     "text": [
      "Vocabulary with index :  {'this': 14, 'is': 6, 'the': 11, 'first': 4, 'document': 2, 'second': 9, 'and': 0, 'third': 13, 'one': 8, 'in': 5, 'way': 15, 'there': 12, 'are': 1, 'so': 10, 'many': 7, 'documents': 3}\n",
      "Sorted Vocabulary:  ['and', 'are', 'document', 'documents', 'first', 'in', 'is', 'many', 'one', 'second', 'so', 'the', 'there', 'third', 'this', 'way']\n"
     ]
    }
   ],
   "source": [
    "# Printing the identified Unique words along with their indices\n",
    "print(\"Vocabulary with index : \", vectorizer.vocabulary_)\n",
    "print(\"Sorted Vocabulary: \",sorted(vectorizer.vocabulary_.keys()))"
   ]
  },
  {
   "cell_type": "code",
   "execution_count": 87,
   "id": "f397a6be",
   "metadata": {},
   "outputs": [
    {
     "name": "stdout",
     "output_type": "stream",
     "text": [
      "Encoded Document is:\n",
      "[[0 0 1 0 1 0 1 0 0 0 0 1 0 0 1 0]\n",
      " [0 0 2 0 0 0 1 0 0 1 0 1 0 0 1 0]\n",
      " [1 0 0 0 0 0 1 0 1 0 0 1 0 1 1 0]\n",
      " [0 1 0 1 0 1 0 1 0 0 1 0 1 0 1 1]]\n"
     ]
    }
   ],
   "source": [
    "# Summarizing the Encoded Texts\n",
    "print(\"Encoded Document is:\")\n",
    "print(features.toarray())"
   ]
  },
  {
   "cell_type": "code",
   "execution_count": 88,
   "id": "888dfd13",
   "metadata": {},
   "outputs": [
    {
     "name": "stdout",
     "output_type": "stream",
     "text": [
      "Vocabulary with index :  {'first': 2, 'document': 0, 'second': 5, 'third': 6, 'one': 4, 'way': 7, 'many': 3, 'documents': 1}\n",
      "Sorted Vocabulary:  ['document', 'documents', 'first', 'many', 'one', 'second', 'third', 'way']\n",
      "Encoded Document is:\n",
      "[[1 0 1 0 0 0 0 0]\n",
      " [2 0 0 0 0 1 0 0]\n",
      " [0 0 0 0 1 0 1 0]\n",
      " [0 1 0 1 0 0 0 1]]\n"
     ]
    }
   ],
   "source": [
    "from nltk.corpus import stopwords\n",
    "stop_words=set(stopwords.words(\"english\"))\n",
    "vectorizer = CountVectorizer(stop_words=stop_words)\n",
    "features = vectorizer.fit_transform(documemts)\n",
    "# Printing the identified Unique words along with their indices\n",
    "print(\"Vocabulary with index : \", vectorizer.vocabulary_)\n",
    "print(\"Sorted Vocabulary: \",sorted(vectorizer.vocabulary_.keys()))\n",
    "# Summarizing the Encoded Texts\n",
    "print(\"Encoded Document is:\")\n",
    "print(features.toarray())"
   ]
  },
  {
   "cell_type": "code",
   "execution_count": 90,
   "id": "e578335a",
   "metadata": {},
   "outputs": [
    {
     "name": "stdout",
     "output_type": "stream",
     "text": [
      "Vocabulary:  {'this is': 15, 'is the': 5, 'the first': 9, 'first document': 3, 'this document': 14, 'document is': 2, 'the second': 10, 'second document': 7, 'and this': 0, 'the third': 11, 'third one': 13, 'in this': 4, 'this way': 16, 'way there': 17, 'there are': 12, 'are so': 1, 'so many': 8, 'many documents': 6}\n",
      "Encoded Document is:\n",
      "[[0 0 0 1 0 1 0 0 0 1 0 0 0 0 0 1 0 0]\n",
      " [0 0 1 0 0 1 0 1 0 0 1 0 0 0 1 0 0 0]\n",
      " [1 0 0 0 0 1 0 0 0 0 0 1 0 1 0 1 0 0]\n",
      " [0 1 0 0 1 0 1 0 1 0 0 0 1 0 0 0 1 1]]\n"
     ]
    }
   ],
   "source": [
    "vectorizer2 = CountVectorizer(analyzer='word', ngram_range=(2, 2))\n",
    "features2 = vectorizer2.fit_transform(documemts)\n",
    "print(\"Vocabulary: \", vectorizer2.vocabulary_)\n",
    "# Summarizing the Encoded Texts\n",
    "print(\"Encoded Document is:\")\n",
    "print(features2.toarray())"
   ]
  },
  {
   "cell_type": "markdown",
   "id": "b89ebd3a",
   "metadata": {},
   "source": [
    "### Term Frequency–Inverse Document Frequency"
   ]
  },
  {
   "cell_type": "code",
   "execution_count": 96,
   "id": "5e3a67bd",
   "metadata": {},
   "outputs": [],
   "source": [
    "from sklearn.feature_extraction.text import TfidfVectorizer\n",
    "import pandas as pd"
   ]
  },
  {
   "cell_type": "code",
   "execution_count": 97,
   "id": "d43bc878",
   "metadata": {},
   "outputs": [],
   "source": [
    "documents=[\"This pasta is very tasty and affordable.\",\n",
    "          \"This pasta is not tasty and is affordable.\",\n",
    "          \"This pasta is very very delicious.\"]"
   ]
  },
  {
   "cell_type": "code",
   "execution_count": 102,
   "id": "8631e77c",
   "metadata": {},
   "outputs": [
    {
     "name": "stdout",
     "output_type": "stream",
     "text": [
      "Features Names:  ['affordable', 'and', 'delicious', 'is', 'not', 'pasta', 'tasty', 'this', 'very']\n"
     ]
    }
   ],
   "source": [
    "tfidf = TfidfVectorizer()\n",
    "tfidfvectors = tfidf.fit_transform(documents)\n",
    "features_names=tfidf.get_feature_names()\n",
    "print(f\"Features Names:  {features_names}\")"
   ]
  },
  {
   "cell_type": "code",
   "execution_count": 103,
   "id": "22c1bdee",
   "metadata": {},
   "outputs": [
    {
     "name": "stdout",
     "output_type": "stream",
     "text": [
      "The Final TF-IDF matrix : \n",
      "    affordable       and  delicious        is       not     pasta     tasty  \\\n",
      "0    0.414896  0.414896   0.000000  0.322204  0.000000  0.322204  0.414896   \n",
      "1    0.346117  0.346117   0.000000  0.537582  0.455102  0.268791  0.346117   \n",
      "2    0.000000  0.000000   0.478909  0.282851  0.000000  0.282851  0.000000   \n",
      "\n",
      "       this      very  \n",
      "0  0.322204  0.414896  \n",
      "1  0.268791  0.000000  \n",
      "2  0.282851  0.728445  \n"
     ]
    }
   ],
   "source": [
    "matrix=tfidfvectors.todense()\n",
    "denselist=matrix.tolist()\n",
    "df=pd.DataFrame(denselist,columns=features_names)\n",
    "print(f\"The Final TF-IDF matrix : \\n {df}\")"
   ]
  },
  {
   "cell_type": "code",
   "execution_count": 104,
   "id": "25083940",
   "metadata": {},
   "outputs": [
    {
     "data": {
      "text/html": [
       "<div>\n",
       "<style scoped>\n",
       "    .dataframe tbody tr th:only-of-type {\n",
       "        vertical-align: middle;\n",
       "    }\n",
       "\n",
       "    .dataframe tbody tr th {\n",
       "        vertical-align: top;\n",
       "    }\n",
       "\n",
       "    .dataframe thead th {\n",
       "        text-align: right;\n",
       "    }\n",
       "</style>\n",
       "<table border=\"1\" class=\"dataframe\">\n",
       "  <thead>\n",
       "    <tr style=\"text-align: right;\">\n",
       "      <th></th>\n",
       "      <th>TF-IDF</th>\n",
       "    </tr>\n",
       "  </thead>\n",
       "  <tbody>\n",
       "    <tr>\n",
       "      <th>affordable</th>\n",
       "      <td>0.414896</td>\n",
       "    </tr>\n",
       "    <tr>\n",
       "      <th>and</th>\n",
       "      <td>0.414896</td>\n",
       "    </tr>\n",
       "    <tr>\n",
       "      <th>tasty</th>\n",
       "      <td>0.414896</td>\n",
       "    </tr>\n",
       "    <tr>\n",
       "      <th>very</th>\n",
       "      <td>0.414896</td>\n",
       "    </tr>\n",
       "    <tr>\n",
       "      <th>is</th>\n",
       "      <td>0.322204</td>\n",
       "    </tr>\n",
       "    <tr>\n",
       "      <th>pasta</th>\n",
       "      <td>0.322204</td>\n",
       "    </tr>\n",
       "    <tr>\n",
       "      <th>this</th>\n",
       "      <td>0.322204</td>\n",
       "    </tr>\n",
       "    <tr>\n",
       "      <th>delicious</th>\n",
       "      <td>0.000000</td>\n",
       "    </tr>\n",
       "    <tr>\n",
       "      <th>not</th>\n",
       "      <td>0.000000</td>\n",
       "    </tr>\n",
       "  </tbody>\n",
       "</table>\n",
       "</div>"
      ],
      "text/plain": [
       "              TF-IDF\n",
       "affordable  0.414896\n",
       "and         0.414896\n",
       "tasty       0.414896\n",
       "very        0.414896\n",
       "is          0.322204\n",
       "pasta       0.322204\n",
       "this        0.322204\n",
       "delicious   0.000000\n",
       "not         0.000000"
      ]
     },
     "execution_count": 104,
     "metadata": {},
     "output_type": "execute_result"
    }
   ],
   "source": [
    "df = pd.DataFrame(tfidfvectors[0].T.todense(),index=features_names, columns=[\"TF-IDF\"])\n",
    "df = df.sort_values('TF-IDF', ascending=False)\n",
    "df"
   ]
  },
  {
   "cell_type": "code",
   "execution_count": 105,
   "id": "86e0f6ba",
   "metadata": {},
   "outputs": [
    {
     "data": {
      "text/html": [
       "<div>\n",
       "<style scoped>\n",
       "    .dataframe tbody tr th:only-of-type {\n",
       "        vertical-align: middle;\n",
       "    }\n",
       "\n",
       "    .dataframe tbody tr th {\n",
       "        vertical-align: top;\n",
       "    }\n",
       "\n",
       "    .dataframe thead th {\n",
       "        text-align: right;\n",
       "    }\n",
       "</style>\n",
       "<table border=\"1\" class=\"dataframe\">\n",
       "  <thead>\n",
       "    <tr style=\"text-align: right;\">\n",
       "      <th></th>\n",
       "      <th>TF-IDF</th>\n",
       "    </tr>\n",
       "  </thead>\n",
       "  <tbody>\n",
       "    <tr>\n",
       "      <th>is</th>\n",
       "      <td>0.537582</td>\n",
       "    </tr>\n",
       "    <tr>\n",
       "      <th>not</th>\n",
       "      <td>0.455102</td>\n",
       "    </tr>\n",
       "    <tr>\n",
       "      <th>affordable</th>\n",
       "      <td>0.346117</td>\n",
       "    </tr>\n",
       "    <tr>\n",
       "      <th>and</th>\n",
       "      <td>0.346117</td>\n",
       "    </tr>\n",
       "    <tr>\n",
       "      <th>tasty</th>\n",
       "      <td>0.346117</td>\n",
       "    </tr>\n",
       "    <tr>\n",
       "      <th>pasta</th>\n",
       "      <td>0.268791</td>\n",
       "    </tr>\n",
       "    <tr>\n",
       "      <th>this</th>\n",
       "      <td>0.268791</td>\n",
       "    </tr>\n",
       "    <tr>\n",
       "      <th>delicious</th>\n",
       "      <td>0.000000</td>\n",
       "    </tr>\n",
       "    <tr>\n",
       "      <th>very</th>\n",
       "      <td>0.000000</td>\n",
       "    </tr>\n",
       "  </tbody>\n",
       "</table>\n",
       "</div>"
      ],
      "text/plain": [
       "              TF-IDF\n",
       "is          0.537582\n",
       "not         0.455102\n",
       "affordable  0.346117\n",
       "and         0.346117\n",
       "tasty       0.346117\n",
       "pasta       0.268791\n",
       "this        0.268791\n",
       "delicious   0.000000\n",
       "very        0.000000"
      ]
     },
     "execution_count": 105,
     "metadata": {},
     "output_type": "execute_result"
    }
   ],
   "source": [
    "df = pd.DataFrame(tfidfvectors[1].T.todense(),index=features_names, columns=[\"TF-IDF\"])\n",
    "df = df.sort_values('TF-IDF', ascending=False)\n",
    "df"
   ]
  },
  {
   "cell_type": "markdown",
   "id": "71418d32",
   "metadata": {},
   "source": [
    "### Word Embedding using Word2Vec"
   ]
  },
  {
   "cell_type": "code",
   "execution_count": 2,
   "id": "3ba9fc00",
   "metadata": {},
   "outputs": [
    {
     "name": "stdout",
     "output_type": "stream",
     "text": [
      "Collecting gensimNote: you may need to restart the kernel to use updated packages.\n",
      "\n",
      "  Downloading gensim-4.1.2-cp38-cp38-win_amd64.whl (24.0 MB)\n",
      "Requirement already satisfied: numpy>=1.17.0 in c:\\users\\balkr\\anaconda3\\lib\\site-packages (from gensim) (1.18.5)\n",
      "Requirement already satisfied: Cython==0.29.23 in c:\\users\\balkr\\anaconda3\\lib\\site-packages (from gensim) (0.29.23)\n",
      "Requirement already satisfied: smart-open>=1.8.1 in c:\\users\\balkr\\anaconda3\\lib\\site-packages (from gensim) (5.2.1)\n",
      "Requirement already satisfied: scipy>=0.18.1 in c:\\users\\balkr\\anaconda3\\lib\\site-packages (from gensim) (1.6.2)\n",
      "Installing collected packages: gensim\n",
      "Successfully installed gensim-4.1.2\n"
     ]
    }
   ],
   "source": [
    "#pip install gensim"
   ]
  },
  {
   "cell_type": "code",
   "execution_count": 7,
   "id": "806bfc6e",
   "metadata": {},
   "outputs": [],
   "source": [
    "import re\n",
    "import nltk\n",
    "from nltk.tokenize import sent_tokenize, word_tokenize\n",
    "import gensim\n",
    "from gensim.models import Word2Vec\n",
    "import matplotlib.pyplot as plt\n",
    "from sklearn.decomposition import PCA"
   ]
  },
  {
   "cell_type": "code",
   "execution_count": 8,
   "id": "a0abb8d5",
   "metadata": {},
   "outputs": [],
   "source": [
    "import warnings\n",
    "warnings.filterwarnings(action = 'ignore')"
   ]
  },
  {
   "cell_type": "code",
   "execution_count": 49,
   "id": "c5d4e58d",
   "metadata": {},
   "outputs": [],
   "source": [
    "#  Reads ‘DL.txt’ file\n",
    "with open(\"data/DL.txt\", \"r\",encoding=\"utf-8\") as f:\n",
    "    sent = f.read()\n",
    "#sent"
   ]
  },
  {
   "cell_type": "code",
   "execution_count": 50,
   "id": "1961663a",
   "metadata": {},
   "outputs": [
    {
     "name": "stdout",
     "output_type": "stream",
     "text": [
      "Number of sentences : 91\n",
      "ninth sentence from file: Word2vec is basically a word embedding technique that is used to convert the words in the dataset to vectors so that the machine understands.\n"
     ]
    }
   ],
   "source": [
    "text=sent_tokenize(sent)\n",
    "print(f\"Number of sentences : {len(text)}\")\n",
    "print(f\"ninth sentence from file: {text[9]}\")"
   ]
  },
  {
   "cell_type": "code",
   "execution_count": 51,
   "id": "30fdee53",
   "metadata": {},
   "outputs": [
    {
     "name": "stdout",
     "output_type": "stream",
     "text": [
      "print ninth sentence from file Before removing punctuations : Word2vec is basically a word embedding technique that is used to convert the words in the dataset to vectors so that the machine understands.\n",
      "print ninth sentence from file after removing punctuations : Word vec is basically a word embedding technique that is used to convert the words in the dataset to vectors so that the machine understands \n"
     ]
    }
   ],
   "source": [
    "print(f\"print ninth sentence from file Before removing punctuations : {text[9]}\")\n",
    "\n",
    "for i in range(len(text)):\n",
    "    text[i]=re.sub(\"[^a-zA-Z]\",\" \",str(text[i]))\n",
    "\n",
    "\n",
    "print(f\"print ninth sentence from file after removing punctuations : {text[9]}\")"
   ]
  },
  {
   "cell_type": "code",
   "execution_count": 52,
   "id": "466839d7",
   "metadata": {},
   "outputs": [
    {
     "name": "stdout",
     "output_type": "stream",
     "text": [
      "tenth sentences word tokenizer  : ['This', 'model', 'was', 'created', 'by', 'Google', 'in', 'and', 'is', 'a', 'predictive', 'deep', 'learning', 'based', 'model', 'to', 'compute', 'and', 'generate', 'high', 'quality', 'distributed', 'and', 'continuous', 'dense', 'vector', 'representations', 'of', 'words', 'which', 'capture', 'contextual', 'and', 'semantic', 'similarity']\n"
     ]
    }
   ],
   "source": [
    "# word tokinize\n",
    "word_tokenizer=[]\n",
    "for w in text:\n",
    "    wt=word_tokenize(w)\n",
    "    word_tokenizer.append(wt)\n",
    "    \n",
    "print(f\"tenth sentences word tokenizer  : {word_tokenizer[0]}\")   "
   ]
  },
  {
   "cell_type": "code",
   "execution_count": 53,
   "id": "397af11a",
   "metadata": {},
   "outputs": [
    {
     "data": {
      "text/plain": [
       "8"
      ]
     },
     "execution_count": 53,
     "metadata": {},
     "output_type": "execute_result"
    }
   ],
   "source": [
    "import multiprocessing\n",
    "cores = multiprocessing.cpu_count()\n",
    "cores"
   ]
  },
  {
   "cell_type": "code",
   "execution_count": 54,
   "id": "58d7f2fe",
   "metadata": {},
   "outputs": [],
   "source": [
    "# Create CBOW model\n",
    "cbowModel=Word2Vec(sentences=word_tokenizer,\n",
    "                  min_count=2, # minimum count of words to be consider. Default=5\n",
    "                  vector_size = 10,# Number of dimension. Default=100\n",
    "                  window=2,# default=5\n",
    "                  sg=0, # method 0 for CBOW and 1 for Skip gram\n",
    "                  alpha=0.03 # learning rate. Default=0.01\n",
    "                  )"
   ]
  },
  {
   "cell_type": "code",
   "execution_count": 55,
   "id": "2c192aae",
   "metadata": {},
   "outputs": [
    {
     "name": "stdout",
     "output_type": "stream",
     "text": [
      "Total Number of words 258\n"
     ]
    }
   ],
   "source": [
    "# total vocabulary words for word2vec model\n",
    "words_cbow=list(cbowModel.wv.index_to_key)\n",
    "print(f\"Total Number of words {len(words_cbow)}\")"
   ]
  },
  {
   "cell_type": "code",
   "execution_count": 57,
   "id": "8269c927",
   "metadata": {},
   "outputs": [
    {
     "name": "stdout",
     "output_type": "stream",
     "text": [
      "[ 0.08119776  0.05746394  0.00787126 -0.03519252 -0.07042691  0.04991765\n",
      "  0.0249572  -0.02097496  0.07003935 -0.04347819]\n"
     ]
    }
   ],
   "source": [
    "# get word embedding value for a particular word\n",
    "print(cbowModel.wv.__getitem__('created'))"
   ]
  },
  {
   "cell_type": "code",
   "execution_count": 63,
   "id": "d61f1b99",
   "metadata": {},
   "outputs": [
    {
     "name": "stdout",
     "output_type": "stream",
     "text": [
      "[('quick', 0.8098419904708862), ('programmer', 0.7270682454109192), ('AI', 0.7172524929046631)]\n"
     ]
    }
   ],
   "source": [
    "# Print results\n",
    "similars = cbowModel.wv.most_similar('learning',topn=3)\n",
    "print(similars)"
   ]
  },
  {
   "cell_type": "code",
   "execution_count": 67,
   "id": "9deba8bd",
   "metadata": {},
   "outputs": [
    {
     "data": {
      "text/plain": [
       "0.43788293"
      ]
     },
     "execution_count": 67,
     "metadata": {},
     "output_type": "execute_result"
    }
   ],
   "source": [
    "# similarity between two words\n",
    "cbowModel.wv.similarity('deep', 'learning')"
   ]
  },
  {
   "cell_type": "code",
   "execution_count": 80,
   "id": "e2694e46",
   "metadata": {},
   "outputs": [
    {
     "data": {
      "image/png": "[encoded data removed]",
      "text/plain": [
       "<Figure size 432x288 with 1 Axes>"
      ]
     },
     "metadata": {
      "needs_background": "light"
     },
     "output_type": "display_data"
    }
   ],
   "source": [
    "X=cbowModel.wv.__getitem__(cbowModel.wv.index_to_key)\n",
    "# create 2D model using PCA\n",
    "pcaModel=PCA(n_components=2)\n",
    "model=pcaModel.fit_transform(X)\n",
    "\n",
    "# Visualize the model\n",
    "plt.scatter(model[:,0],model[:,1])\n",
    "cbow=list(cbowModel.wv.index_to_key)\n",
    "\n",
    "for i, word in enumerate(cbow[:10]):\n",
    "    plt.annotate(s=word,xy=(model[i,0],model[i,1]),size=15)\n",
    "plt.show()"
   ]
  },
  {
   "cell_type": "markdown",
   "id": "f024bc7f",
   "metadata": {},
   "source": [
    "### Building word2vec skip-gram method"
   ]
  },
  {
   "cell_type": "code",
   "execution_count": 81,
   "id": "745c67ab",
   "metadata": {},
   "outputs": [
    {
     "name": "stdout",
     "output_type": "stream",
     "text": [
      "Total Number of words 258\n",
      "[ 0.08119776  0.05746394  0.00787126 -0.03519252 -0.07042691  0.04991765\n",
      "  0.0249572  -0.02097496  0.07003935 -0.04347819]\n",
      "[('quick', 0.8098419904708862), ('programmer', 0.7270682454109192), ('AI', 0.7172524929046631)]\n"
     ]
    },
    {
     "data": {
      "text/plain": [
       "0.43788293"
      ]
     },
     "execution_count": 81,
     "metadata": {},
     "output_type": "execute_result"
    }
   ],
   "source": [
    "#  Reads ‘DL.txt’ file\n",
    "with open(\"data/DL.txt\", \"r\",encoding=\"utf-8\") as f:\n",
    "    sent = f.read()\n",
    "#sent\n",
    "text=sent_tokenize(sent)\n",
    "for i in range(len(text)):\n",
    "    text[i]=re.sub(\"[^a-zA-Z]\",\" \",str(text[i]))\n",
    "\n",
    "# word tokinize\n",
    "word_tokenizer=[]\n",
    "for w in text:\n",
    "    wt=word_tokenize(w)\n",
    "    word_tokenizer.append(wt)\n",
    "\n",
    "# Create skip-gram model\n",
    "skipgramModel=Word2Vec(sentences=word_tokenizer,\n",
    "                  min_count=2, # minimum count of words to be consider. Default=5\n",
    "                  vector_size = 10,# Number of dimension. Default=100\n",
    "                  window=2,# default=5\n",
    "                  sg=1, # method 0 for CBOW and 1 for Skip gram\n",
    "                  alpha=0.03 # learning rate. Default=0.01\n",
    "                  )\n",
    "\n",
    "# total vocabulary words for word2vec model\n",
    "words_sgram=list(skipgramModel.wv.index_to_key)\n",
    "print(f\"Total Number of words {len(words_sgram)}\")\n",
    "\n",
    "# get word embedding value for a particular word\n",
    "print(cbowModel.wv.__getitem__('created'))\n",
    "\n",
    "# Print results\n",
    "similars = cbowModel.wv.most_similar('learning',topn=3)\n",
    "print(similars)\n",
    "\n",
    "# similarity between two words\n",
    "cbowModel.wv.similarity('deep', 'learning')"
   ]
  },
  {
   "cell_type": "markdown",
   "id": "4e7f9d86",
   "metadata": {},
   "source": [
    "### Word embedding model using Pre-trained models"
   ]
  },
  {
   "cell_type": "code",
   "execution_count": null,
   "id": "8a2f1b7c",
   "metadata": {},
   "outputs": [],
   "source": []
  }
 ],
 "metadata": {
  "kernelspec": {
   "display_name": "Python 3",
   "language": "python",
   "name": "python3"
  },
  "language_info": {
   "codemirror_mode": {
    "name": "ipython",
    "version": 3
   },
   "file_extension": ".py",
   "mimetype": "text/x-python",
   "name": "python",
   "nbconvert_exporter": "python",
   "pygments_lexer": "ipython3",
   "version": "3.8.8"
  }
 },
 "nbformat": 4,
 "nbformat_minor": 5
}

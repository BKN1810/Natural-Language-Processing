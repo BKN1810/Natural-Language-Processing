{
 "cells": [
  {
   "cell_type": "markdown",
   "metadata": {},
   "source": [
    "### Tokenizing text into sentences"
   ]
  },
  {
   "cell_type": "code",
   "execution_count": 1,
   "metadata": {},
   "outputs": [
    {
     "name": "stdout",
     "output_type": "stream",
     "text": [
      "['Tokenization is the first step in text analytics.', 'The process of breaking down a text paragraph into smaller chunks such as words or sentence is called Tokenization.', 'Token is a single entity that is building blocks for sentence or paragraph.', 'Does sentence tokenizer break text paragraph into sentences?', 'What is fact?']\n"
     ]
    }
   ],
   "source": [
    "# Sentence tokenization using sent_tokenize\n",
    "from nltk.tokenize import sent_tokenize\n",
    "text=\"\"\"Tokenization is the first step in text analytics. \n",
    "        The process of breaking down a text paragraph into smaller chunks such as words or sentence is called Tokenization.\n",
    "        Token is a single entity that is building blocks for sentence or paragraph. \n",
    "        Does sentence tokenizer break text paragraph into sentences?\n",
    "        What is fact?\"\"\"\n",
    "sentences=sent_tokenize(text)\n",
    "print(sentences)"
   ]
  },
  {
   "cell_type": "code",
   "execution_count": 6,
   "metadata": {},
   "outputs": [
    {
     "name": "stdout",
     "output_type": "stream",
     "text": [
      "['Tokenization is the first step in text analytics', '\\n        The process of breaking down a text paragraph into smaller chunks such as words or sentence is called Tokenization.\\n        Token is a single entity that is building blocks for sentence or paragraph', '\\n        Does sentence tokenizer break text paragraph into sentences?\\n        What is fact?']\n"
     ]
    }
   ],
   "source": [
    "# Sentence tokenization using Regular expression\n",
    "\n",
    "import re\n",
    "sentences = re.compile('[.!?] ').split(text)\n",
    "print(sentences)"
   ]
  },
  {
   "cell_type": "markdown",
   "metadata": {},
   "source": [
    "### Tokenizing sentences into words"
   ]
  },
  {
   "cell_type": "code",
   "execution_count": 3,
   "metadata": {},
   "outputs": [
    {
     "name": "stdout",
     "output_type": "stream",
     "text": [
      "['The', 'process', 'of', 'breaking', 'down', 'a', 'text', 'paragraph', 'into', 'smaller', 'chunks', 'such', 'as', 'words', 'or', 'sentence', 'is', 'called', 'Tokenization.Token', 'is', 'a', 'single', 'entity', 'that', 'is', 'building', 'blocks', 'for', 'sentence', 'or', 'paragraph', '.']\n"
     ]
    }
   ],
   "source": [
    "txt=\"\"\"The process of breaking down a text paragraph into smaller chunks such as \n",
    "        words or sentence is called Tokenization.Token is a single entity that \n",
    "        is building blocks for sentence or paragraph.\"\"\"\n",
    "from nltk.tokenize import word_tokenize\n",
    "from nltk.tokenize import TreebankWordTokenizer\n",
    "token=word_tokenize(txt)\n",
    "print(token)"
   ]
  },
  {
   "cell_type": "code",
   "execution_count": 4,
   "metadata": {},
   "outputs": [
    {
     "name": "stdout",
     "output_type": "stream",
     "text": [
      "Using word_tokenize :  ['Ca', \"n't\", 'is', 'a', 'contraction', '.']\n",
      "======================================\n",
      "Using TreebankWordTokenizer :  ['Ca', \"n't\", 'is', 'a', 'contraction', '.']\n",
      "======================================\n",
      "Using wordpunct_tokenize :  ['Can', \"'\", 't', 'is', 'a', 'contraction', '.']\n"
     ]
    }
   ],
   "source": [
    "from nltk.tokenize import TreebankWordTokenizer\n",
    "from nltk.tokenize import wordpunct_tokenize\n",
    "from nltk.tokenize import WordPunctTokenizer\n",
    "\n",
    "\n",
    "txt1 = \"Can't is a contraction.\"\n",
    "tokenizer1 = TreebankWordTokenizer()\n",
    "token1 = word_tokenize(txt1)\n",
    "token2 = tokenizer1.tokenize(txt1)\n",
    "token3=wordpunct_tokenize(txt1)\n",
    "\n",
    "print(\"Using word_tokenize : \",token1)\n",
    "print(\"======================================\")\n",
    "\n",
    "print(\"Using TreebankWordTokenizer : \",token2)\n",
    "print(\"======================================\")\n",
    "\n",
    "print(\"Using wordpunct_tokenize : \",token3)"
   ]
  },
  {
   "cell_type": "markdown",
   "metadata": {},
   "source": [
    "### Tokenizing sentences into words using regular expressions"
   ]
  },
  {
   "cell_type": "code",
   "execution_count": 5,
   "metadata": {},
   "outputs": [
    {
     "name": "stdout",
     "output_type": "stream",
     "text": [
      "['Hi', 'Everyone', 'Its', 'gr8', 'time']\n",
      "['8']\n",
      "['Hi', 'Everyone', 'Its', 'gr8', 'time']\n"
     ]
    }
   ],
   "source": [
    "import re\n",
    "from nltk.tokenize import regexp_tokenize\n",
    "from nltk.tokenize import RegexpTokenizer\n",
    "\n",
    "text=\"Hi Everyone ! Its gr8 time.\"\n",
    "text1=regexp_tokenize(text, pattern='\\w+')\n",
    "print(text1)\n",
    "text2=regexp_tokenize(text, pattern='\\d+')\n",
    "print(text2)\n",
    "\n",
    "text3 = re.findall(\"[\\w]+\", text)\n",
    "print(text3)"
   ]
  },
  {
   "cell_type": "code",
   "execution_count": 6,
   "metadata": {},
   "outputs": [
    {
     "name": "stdout",
     "output_type": "stream",
     "text": [
      "['Can', 't', 'is', 'a', 'contraction']\n",
      "[\"Can't\", 'is', 'a', 'contraction']\n",
      "[\"Can't\", 'is', 'a', 'contraction.', 'Tokenizing', 'sentences', 'using', 'regular', 'expressions.']\n"
     ]
    }
   ],
   "source": [
    "txt1 = \"Can't is a contraction.\"\n",
    "text3 = re.findall(\"[\\w]+\", txt1)\n",
    "print(text3)\n",
    "text3 = re.findall(\"[\\w']+\", txt1)\n",
    "print(text3)\n",
    "\n",
    "##  Simple whitespace tokenizer\n",
    "tokenizer = RegexpTokenizer('\\s+', gaps=True)\n",
    "list=tokenizer.tokenize(\"Can't is a contraction. Tokenizing sentences using regular expressions.\")\n",
    "print(list)"
   ]
  },
  {
   "cell_type": "code",
   "execution_count": 8,
   "metadata": {},
   "outputs": [
    {
     "name": "stdout",
     "output_type": "stream",
     "text": [
      "<FreqDist with 26 samples and 35 outcomes>\n"
     ]
    },
    {
     "data": {
      "text/plain": [
       "[('is', 6), ('a', 2)]"
      ]
     },
     "execution_count": 8,
     "metadata": {},
     "output_type": "execute_result"
    }
   ],
   "source": [
    "from nltk.probability import FreqDist\n",
    "\n",
    "txt=\"\"\"The process of breaking down a text paragraph into smaller chunks such as \n",
    "        words or sentence is called Tokenization.Token is a single entity that \n",
    "        is is is is building blocks for sentence or paragraph.\"\"\"\n",
    "token=word_tokenize(txt)\n",
    "\n",
    "fdist = FreqDist(token)\n",
    "print(fdist)\n",
    "fdist.most_common(2)"
   ]
  },
  {
   "cell_type": "markdown",
   "metadata": {},
   "source": [
    "### Stemming"
   ]
  },
  {
   "cell_type": "code",
   "execution_count": 10,
   "metadata": {},
   "outputs": [
    {
     "name": "stdout",
     "output_type": "stream",
     "text": [
      "cook\n",
      "cookeri\n",
      "eat\n",
      "eaten\n",
      "shop\n",
      "best\n"
     ]
    }
   ],
   "source": [
    "from nltk.stem import PorterStemmer\n",
    "stemmer = PorterStemmer()\n",
    "print(stemmer.stem('cooking'))\n",
    "print(stemmer.stem('cookery'))\n",
    "print(stemmer.stem('eats'))\n",
    "print(stemmer.stem('eaten'))\n",
    "print(stemmer.stem('shopping'))\n",
    "print(stemmer.stem('best'))"
   ]
  },
  {
   "cell_type": "code",
   "execution_count": 11,
   "metadata": {},
   "outputs": [
    {
     "name": "stdout",
     "output_type": "stream",
     "text": [
      "Stemmed Sentence: ['the', 'process', 'of', 'break', 'down', 'a', 'text', 'paragraph', 'into', 'smaller', 'chunk', 'such', 'as', 'word', 'or', 'sentenc', 'is', 'call', 'tokenization.', 'token', 'is', 'a', 'singl', 'entiti', 'that', 'is', 'build', 'block', 'for', 'sentenc', 'or', 'paragraph.', 'i', 'like', 'fishing.', 'i', 'eat', 'fish.', 'there', 'are', 'mani', 'fish', 'in', 'pound.']\n"
     ]
    }
   ],
   "source": [
    "txt=\"\"\"The process of breaking down a text paragraph into smaller chunks such as \n",
    "        words or sentence is called Tokenization. Token is a single entity that \n",
    "        is building blocks for sentence or paragraph. \n",
    "        I like fishing. I eat fish. There are many fishes in pound.\"\"\"\n",
    "\n",
    "stemmed_words=[]\n",
    "for w in txt.split():\n",
    "    stemmed_words.append(stemmer.stem(w))\n",
    "\n",
    "print(\"Stemmed Sentence:\",stemmed_words)"
   ]
  },
  {
   "cell_type": "code",
   "execution_count": 12,
   "metadata": {},
   "outputs": [
    {
     "name": "stdout",
     "output_type": "stream",
     "text": [
      "Stemming for studies ========> studi\n",
      "Stemming for studying ========> studi\n",
      "Stemming for cries ========> cri\n",
      "Stemming for cry ========> cri\n"
     ]
    }
   ],
   "source": [
    "from nltk.stem import PorterStemmer\n",
    "stemmer  = PorterStemmer()\n",
    "\n",
    "text = \"studies studying cries cry\"\n",
    "tokenization = word_tokenize(text)\n",
    "for w in tokenization:\n",
    "    print(\"Stemming for {} ========> {}\".format(w,stemmer.stem(w)))  "
   ]
  },
  {
   "cell_type": "code",
   "execution_count": 13,
   "metadata": {},
   "outputs": [
    {
     "name": "stdout",
     "output_type": "stream",
     "text": [
      "cook\n",
      "cookery\n",
      "eat\n",
      "eat\n",
      "shop\n"
     ]
    }
   ],
   "source": [
    "from nltk.stem import LancasterStemmer\n",
    "stemmer = LancasterStemmer()\n",
    "print(stemmer.stem('cooking'))\n",
    "print(stemmer.stem('cookery'))\n",
    "print(stemmer.stem('eats'))\n",
    "print(stemmer.stem('eaten'))\n",
    "print(stemmer.stem('shopping'))"
   ]
  },
  {
   "cell_type": "code",
   "execution_count": 14,
   "metadata": {},
   "outputs": [
    {
     "name": "stdout",
     "output_type": "stream",
     "text": [
      "Stemmed Sentence: ['the', 'process', 'of', 'break', 'down', 'a', 'text', 'paragraph', 'into', 'smal', 'chunk', 'such', 'as', 'word', 'or', 'sent', 'is', 'cal', 'tokenization.', 'tok', 'is', 'a', 'singl', 'ent', 'that', 'is', 'build', 'block', 'for', 'sent', 'or', 'paragraph.', 'i', 'lik', 'fishing.', 'i', 'eat', 'fish.', 'ther', 'ar', 'many', 'fish', 'in', 'pound.']\n"
     ]
    }
   ],
   "source": [
    "txt=\"\"\"The process of breaking down a text paragraph into smaller chunks such as \n",
    "        words or sentence is called Tokenization. Token is a single entity that \n",
    "        is building blocks for sentence or paragraph. \n",
    "        I like fishing. I eat fish. There are many fishes in pound.\"\"\"\n",
    "\n",
    "stemmed_words=[]\n",
    "for w in txt.split():\n",
    "    stemmed_words.append(stemmer.stem(w))\n",
    "\n",
    "print(\"Stemmed Sentence:\",stemmed_words)"
   ]
  },
  {
   "cell_type": "code",
   "execution_count": 16,
   "metadata": {},
   "outputs": [
    {
     "name": "stdout",
     "output_type": "stream",
     "text": [
      "cook\n",
      "cookery\n",
      "eats\n",
      "play\n",
      "shopp\n",
      "leside\n"
     ]
    }
   ],
   "source": [
    "from nltk.stem import RegexpStemmer\n",
    "stemmer = RegexpStemmer('ing|ed')\n",
    "\n",
    "print(stemmer.stem('cooking'))\n",
    "print(stemmer.stem('cookery'))\n",
    "print(stemmer.stem('eats'))\n",
    "print(stemmer.stem('played'))\n",
    "print(stemmer.stem('shopping'))\n",
    "print(stemmer.stem('ingleside'))"
   ]
  },
  {
   "cell_type": "code",
   "execution_count": 18,
   "metadata": {},
   "outputs": [
    {
     "name": "stdout",
     "output_type": "stream",
     "text": [
      "rocks  ====> rock\n",
      "corpora  ====> corpus\n",
      "better  ====> good\n",
      "cooking  ====> cooking\n",
      "cooking  ====> cook\n",
      "cooking  ====> cook\n",
      "flying  ====> fly\n",
      "flying  ====> flying\n"
     ]
    }
   ],
   "source": [
    "# nltk.download('wordnet')\n",
    "from nltk.stem.wordnet import WordNetLemmatizer\n",
    "lem = WordNetLemmatizer()\n",
    "print(\"rocks  ====>\", lem.lemmatize(\"rocks\"))\n",
    "print(\"corpora  ====>\", lem.lemmatize(\"corpora\"))\n",
    "# a denotes adjective in \"pos\"\n",
    "print(\"better  ====>\", lem.lemmatize(\"better\", pos =\"a\"))\n",
    "print(\"cooking  ====>\",lem.lemmatize('cooking'))\n",
    "print(\"cooking  ====>\",lem.lemmatize('cooking', pos='v'))\n",
    "print(\"cooking  ====>\",lem.lemmatize('cooking', pos='v'))\n",
    "print(\"flying  ====>\",lem.lemmatize('flying', pos='v'))\n",
    "print(\"flying  ====>\",lem.lemmatize('flying', pos='n'))"
   ]
  },
  {
   "cell_type": "code",
   "execution_count": 57,
   "metadata": {},
   "outputs": [
    {
     "name": "stdout",
     "output_type": "stream",
     "text": [
      "Lemma for studies ========> study\n",
      "Lemma for studying ========> studying\n",
      "Lemma for cries ========> cry\n",
      "Lemma for cry ========> cry\n"
     ]
    }
   ],
   "source": [
    "from nltk.stem.wordnet import WordNetLemmatizer\n",
    "lem = WordNetLemmatizer()\n",
    "\n",
    "text = \"studies studying cries cry\"\n",
    "tokenization = word_tokenize(text)\n",
    "for w in tokenization:\n",
    "\tprint(\"Lemma for {} ========> {}\".format(w, lem.lemmatize(w)))"
   ]
  },
  {
   "cell_type": "code",
   "execution_count": 19,
   "metadata": {},
   "outputs": [
    {
     "name": "stdout",
     "output_type": "stream",
     "text": [
      "Lemma for I ====> I\n",
      "Lemma for like ====> like\n",
      "Lemma for fishing ====> fishing\n",
      "Lemma for . ====> .\n",
      "Lemma for I ====> I\n",
      "Lemma for eat ====> eat\n",
      "Lemma for fish ====> fish\n",
      "Lemma for . ====> .\n",
      "Lemma for There ====> There\n",
      "Lemma for are ====> are\n",
      "Lemma for many ====> many\n",
      "Lemma for fishes ====> fish\n",
      "Lemma for in ====> in\n",
      "Lemma for pound ====> pound\n",
      "Lemma for leaves ====> leaf\n",
      "Lemma for and ====> and\n",
      "Lemma for leaf ====> leaf\n",
      "Lemma for . ====> .\n"
     ]
    }
   ],
   "source": [
    "text= \"\"\"I like fishing. I eat fish. There are many fishes in pound leaves and leaf.\"\"\"\n",
    "tokenization = word_tokenize(text)\n",
    "for w in tokenization:\n",
    "\tprint(\"Lemma for {} ====> {}\".format(w, lem.lemmatize(w)))"
   ]
  },
  {
   "cell_type": "markdown",
   "metadata": {},
   "source": [
    "### Lemmatize with POS Tag"
   ]
  },
  {
   "cell_type": "code",
   "execution_count": 47,
   "metadata": {},
   "outputs": [
    {
     "name": "stderr",
     "output_type": "stream",
     "text": [
      "[nltk_data] Downloading package averaged_perceptron_tagger to\n",
      "[nltk_data]     C:\\Users\\balkr\\AppData\\Roaming\\nltk_data...\n",
      "[nltk_data]   Unzipping taggers\\averaged_perceptron_tagger.zip.\n"
     ]
    },
    {
     "data": {
      "text/plain": [
       "True"
      ]
     },
     "execution_count": 47,
     "metadata": {},
     "output_type": "execute_result"
    }
   ],
   "source": [
    "import nltk\n",
    "nltk.download('averaged_perceptron_tagger')"
   ]
  },
  {
   "cell_type": "code",
   "execution_count": 20,
   "metadata": {},
   "outputs": [
    {
     "name": "stdout",
     "output_type": "stream",
     "text": [
      "[('The', 'DT'), ('striped', 'JJ'), ('bats', 'NNS'), ('are', 'VBP'), ('hanging', 'VBG'), ('on', 'IN'), ('their', 'PRP$'), ('feet', 'NNS'), ('for', 'IN'), ('best.It', 'NN'), ('is', 'VBZ'), ('better', 'RBR'), ('then', 'RB'), ('the', 'DT'), ('best', 'JJS'), ('.', '.')]\n",
      "===============================================\n",
      "['The', 'strip', 'bat', 'be', 'hang', 'on', 'their', 'foot', 'for', 'best.It', 'be', 'well', 'then', 'the', 'best', '.']\n"
     ]
    }
   ],
   "source": [
    "import nltk\n",
    "from nltk.corpus import wordnet\n",
    "\n",
    "def get_wordnet_pos(word):\n",
    "    \"\"\"Map POS tag to first character lemmatize() accepts\"\"\"\n",
    "    tag = nltk.pos_tag([word])[0][1][0].upper()\n",
    "    tag_dict = {\"J\": wordnet.ADJ,\n",
    "                \"N\": wordnet.NOUN,\n",
    "                \"V\": wordnet.VERB,\n",
    "                \"R\": wordnet.ADV}\n",
    "    return tag_dict.get(tag, wordnet.NOUN)\n",
    "\n",
    "lem = WordNetLemmatizer()\n",
    "\n",
    "text = \"The striped bats are hanging on their feet for best.It is better then the best.\"\n",
    "# POS tag for a given sentence\n",
    "print(nltk.pos_tag(nltk.word_tokenize(text)))\n",
    "print(\"===============================================\")\n",
    "# Lemmatize a Sentence with the appropriate POS tag\n",
    "print([lem.lemmatize(w, get_wordnet_pos(w)) for w in nltk.word_tokenize(text)])"
   ]
  },
  {
   "cell_type": "markdown",
   "metadata": {},
   "source": [
    "### Stop Words"
   ]
  },
  {
   "cell_type": "code",
   "execution_count": 21,
   "metadata": {},
   "outputs": [
    {
     "name": "stdout",
     "output_type": "stream",
     "text": [
      "{'or', 'for', 'nor', \"wasn't\", 'weren', 'its', 'from', 'mustn', \"needn't\", 've', 'didn', 'should', 'hers', 'are', 'before', \"don't\", 'myself', 'her', 'on', 'very', \"doesn't\", 'too', 'both', 'been', 'when', \"you're\", 'herself', 'won', 'each', \"couldn't\", 'shouldn', 'll', \"aren't\", 'above', 'had', 'then', 'because', 'again', 'below', \"hadn't\", 'down', 'such', 'and', 'do', \"won't\", \"didn't\", \"it's\", \"weren't\", \"you'll\", 'be', \"isn't\", 'of', 'those', 'most', \"you'd\", 'here', 'why', 'yourself', \"shan't\", 'so', 'between', 'other', 'this', 'not', 'an', 'just', 'all', 'who', 'am', 'as', 'a', 'me', 'than', 'wasn', 'how', 't', \"mustn't\", 'these', 's', 'o', 'his', 'our', 'by', 'ain', 're', 'hasn', 'about', 'while', 'were', \"she's\", 'm', 'themselves', 'but', 'in', 'ours', 'no', \"you've\", 'yourselves', 'they', 'over', 'some', 'ourselves', 'having', \"wouldn't\", 'wouldn', 'if', 'aren', 'y', 'where', \"hasn't\", \"shouldn't\", 'which', 'mightn', 'against', 'shan', 'him', 'the', 'did', 'there', 'will', 'have', 'once', 'don', 'up', 'itself', 'yours', 'hadn', 'their', 'under', 'same', 'ma', 'does', 'she', 'doing', 'couldn', 'out', 'my', \"that'll\", 'what', \"haven't\", 'has', 'we', 'until', 'he', 'can', 'few', 'off', 'needn', 'with', 'now', \"should've\", 'your', 'it', 'through', 'during', 'own', 'doesn', 'is', 'that', 'into', 'further', 'only', 'haven', 'after', \"mightn't\", 'd', 'to', 'isn', 'i', 'them', 'whom', 'was', 'theirs', 'being', 'more', 'any', 'himself', 'you', 'at'}\n"
     ]
    }
   ],
   "source": [
    "from nltk.corpus import stopwords\n",
    "stop_words=set(stopwords.words(\"english\"))\n",
    "print(stop_words)"
   ]
  },
  {
   "cell_type": "code",
   "execution_count": 66,
   "metadata": {},
   "outputs": [
    {
     "data": {
      "text/plain": [
       "['This',\n",
       " 'sample',\n",
       " 'sentence.',\n",
       " 'For',\n",
       " 'example,',\n",
       " 'How',\n",
       " 'develop',\n",
       " 'chatbot',\n",
       " 'using',\n",
       " 'python?']"
      ]
     },
     "execution_count": 66,
     "metadata": {},
     "output_type": "execute_result"
    }
   ],
   "source": [
    "text = \"This is a sample sentence. For example, How to develop chatbot using python?\"\n",
    "wordlist = [word for word in text.split() if word not in stop_words]\n",
    "wordlist"
   ]
  },
  {
   "cell_type": "code",
   "execution_count": 23,
   "metadata": {},
   "outputs": [
    {
     "name": "stdout",
     "output_type": "stream",
     "text": [
      "After removing Stop Words: ['The', 'process', 'breaking', 'text', 'paragraph', 'smaller', 'chunks', 'words', 'sentence', 'called', 'Tokenization', '.', 'Token', 'single', 'entity', 'building', 'blocks', 'sentence', 'paragraph', '.', 'I', 'like', 'fishing', '.', 'I', 'eat', 'fish', '.', 'There', 'many', 'fishes', 'pound', '.', 'Is', 'inside', '.']\n",
      "\n",
      "Tokenized Sentence: ['The', 'process', 'of', 'breaking', 'down', 'a', 'text', 'paragraph', 'into', 'smaller', 'chunks', 'such', 'as', 'words', 'or', 'sentence', 'is', 'called', 'Tokenization', '.', 'Token', 'is', 'a', 'single', 'entity', 'that', 'is', 'building', 'blocks', 'for', 'sentence', 'or', 'paragraph', '.', 'I', 'like', 'fishing', '.', 'I', 'eat', 'fish', '.', 'There', 'are', 'many', 'fishes', 'in', 'pound', '.', 'Is', 'the', 'on', 'of', 'inside', 'a', 'an', 'under', 'are', 'over', 'there', 'i', '.']\n"
     ]
    }
   ],
   "source": [
    "text=\"\"\"The process of breaking down a text paragraph into smaller chunks such as \n",
    "        words or sentence is called Tokenization. Token is a single entity that \n",
    "        is building blocks for sentence or paragraph. \n",
    "        I like fishing. I eat fish. There are many fishes in pound. Is the on of inside a an \n",
    "        under are over there i.\"\"\"\n",
    "\n",
    "# Removing Stopwords\n",
    "tokenized_sent=word_tokenize(text)\n",
    "\n",
    "filtered_sent=[]\n",
    "for w in tokenized_sent:\n",
    "    if w not in stop_words:\n",
    "        filtered_sent.append(w)\n",
    "print(\"After removing Stop Words:\",filtered_sent)\n",
    "print(\"\\nTokenized Sentence:\",tokenized_sent)"
   ]
  },
  {
   "cell_type": "markdown",
   "metadata": {},
   "source": [
    "### Spell Correction using NLTK "
   ]
  },
  {
   "cell_type": "code",
   "execution_count": 70,
   "metadata": {},
   "outputs": [
    {
     "name": "stderr",
     "output_type": "stream",
     "text": [
      "[nltk_data] Downloading package words to\n",
      "[nltk_data]     C:\\Users\\balkr\\AppData\\Roaming\\nltk_data...\n",
      "[nltk_data]   Unzipping corpora\\words.zip.\n"
     ]
    },
    {
     "data": {
      "text/plain": [
       "True"
      ]
     },
     "execution_count": 70,
     "metadata": {},
     "output_type": "execute_result"
    }
   ],
   "source": [
    "nltk.download('words')"
   ]
  },
  {
   "cell_type": "code",
   "execution_count": 24,
   "metadata": {},
   "outputs": [],
   "source": [
    "import nltk\n",
    "# importing jaccard distance and ngrams from nltk.util\n",
    "from nltk.metrics.distance import jaccard_distance\n",
    "from nltk.util import ngrams\n",
    "from nltk.corpus import words\n",
    "\n",
    "correct_words = words.words()\n",
    "#correct_words"
   ]
  },
  {
   "cell_type": "code",
   "execution_count": 27,
   "metadata": {},
   "outputs": [
    {
     "name": "stdout",
     "output_type": "stream",
     "text": [
      "happy\n",
      "amazing\n",
      "intelligent\n",
      "apa\n"
     ]
    }
   ],
   "source": [
    "# list of incorrect spellings that need to be corrected \n",
    "incorrect_words=['happpppy', 'azmaing', 'intelliengt','apqd']\n",
    "  \n",
    "# loop for finding correct spellings based on jaccard distance and printing the correct word\n",
    "for word in incorrect_words:\n",
    "    temp = [(jaccard_distance(set(ngrams(word, 2)), set(ngrams(w, 2))),w) for w in correct_words if w[0]==word[0]]\n",
    "    print(sorted(temp, key = lambda val:val[0])[0][1])"
   ]
  },
  {
   "cell_type": "code",
   "execution_count": 28,
   "metadata": {},
   "outputs": [
    {
     "name": "stdout",
     "output_type": "stream",
     "text": [
      "happy\n",
      "aiming\n",
      "intelligent\n"
     ]
    }
   ],
   "source": [
    "# importing edit distance  \n",
    "from nltk.metrics.distance  import edit_distance\n",
    "from nltk.corpus import words\n",
    "\n",
    "correct_words = words.words()\n",
    "\n",
    "incorrect_words=['happpy', 'azmaing', 'intelliengt']\n",
    "for word in incorrect_words:\n",
    "    temp = [(edit_distance(word, w),w) for w in correct_words if w[0]==word[0]]\n",
    "    print(sorted(temp, key = lambda val:val[0])[0][1])"
   ]
  },
  {
   "cell_type": "code",
   "execution_count": 32,
   "metadata": {},
   "outputs": [
    {
     "data": {
      "text/plain": [
       "4"
      ]
     },
     "execution_count": 32,
     "metadata": {},
     "output_type": "execute_result"
    }
   ],
   "source": [
    "edit_distance(\"rainkf\",\"shine\")"
   ]
  },
  {
   "cell_type": "code",
   "execution_count": 30,
   "metadata": {},
   "outputs": [
    {
     "data": {
      "text/plain": [
       "1"
      ]
     },
     "execution_count": 30,
     "metadata": {},
     "output_type": "execute_result"
    }
   ],
   "source": [
    "edit_distance('language', 'languege')"
   ]
  },
  {
   "cell_type": "code",
   "execution_count": null,
   "metadata": {},
   "outputs": [],
   "source": []
  }
 ],
 "metadata": {
  "kernelspec": {
   "display_name": "Python 3",
   "language": "python",
   "name": "python3"
  },
  "language_info": {
   "codemirror_mode": {
    "name": "ipython",
    "version": 3
   },
   "file_extension": ".py",
   "mimetype": "text/x-python",
   "name": "python",
   "nbconvert_exporter": "python",
   "pygments_lexer": "ipython3",
   "version": "3.8.8"
  }
 },
 "nbformat": 4,
 "nbformat_minor": 2
}

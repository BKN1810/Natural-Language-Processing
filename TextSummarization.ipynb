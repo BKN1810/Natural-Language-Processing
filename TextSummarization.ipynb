{
 "cells": [
  {
   "cell_type": "code",
   "execution_count": 1,
   "metadata": {},
   "outputs": [],
   "source": [
    "import bs4 as bs\n",
    "import urllib.request\n",
    "import re\n",
    "\n",
    "scraped_data = urllib.request.urlopen('https://en.wikipedia.org/wiki/Digital_image_processing')\n",
    "article = scraped_data.read()\n",
    "\n",
    "parsed_article = bs.BeautifulSoup(article,'lxml')\n",
    "# print(parsed_article)  \n",
    "\n",
    "paragraphs = parsed_article.find_all('p')\n",
    "# print(paragraphs)  \n",
    "\n",
    "article_text = \"\"\n",
    "\n",
    "for p in paragraphs:\n",
    "    article_text += p.text\n",
    "    \n",
    "# print(article_text)  \n",
    "\n",
    "# use the urlopen function from the urllib.request utility to scrape the data. \n",
    "# Next, we need to call read function on the object returned by urlopen function in order to read the data. \n",
    "# To parse the data, we use BeautifulSoup object and pass it the scraped data object i.e. article and the lxml parser.\n",
    "# The find_all function returns all the paragraphs in the article in the form of a list"
   ]
  },
  {
   "cell_type": "code",
   "execution_count": 2,
   "metadata": {},
   "outputs": [],
   "source": [
    "# Preprocessing\n",
    "# The following script removes the square brackets and replaces the resulting multiple spaces by a single space.\n",
    "article_text = re.sub(r'\\[[0-9]*\\]', ' ', article_text)\n",
    "article_text = re.sub(r'\\s+', ' ', article_text)\n",
    "# print(article_text)  \n",
    "\n",
    "fname=\"D:/Digital_image_processing.txt\"\n",
    "with open(fname, \"w\", encoding=\"utf-8\") as f:\n",
    "    f.write(article_text)\n",
    "    \n",
    "with open(fname, \"r\",encoding=\"utf-8\") as reader:\n",
    "   txt= reader.read()\n",
    "#print(txt)   "
   ]
  },
  {
   "cell_type": "code",
   "execution_count": 3,
   "metadata": {},
   "outputs": [],
   "source": [
    "# Removing special characters and digits\n",
    "formatted_article_text = re.sub('[^a-zA-Z]', ' ', txt )\n",
    "formatted_article_text = re.sub(r'\\s+', ' ', formatted_article_text)\n",
    "# print(article_text)  \n",
    "# The formatted_article_text does not contain any punctuation and \n",
    "# therefore cannot be converted into sentences using the full stop as a parameter."
   ]
  },
  {
   "cell_type": "code",
   "execution_count": 7,
   "metadata": {},
   "outputs": [],
   "source": [
    "fname=\"D:/Digital_image_processing.txt\"\n",
    "with open(fname, \"w\", encoding=\"utf-8\") as f:\n",
    "    f.write(formatted_article_text)"
   ]
  },
  {
   "cell_type": "code",
   "execution_count": 5,
   "metadata": {},
   "outputs": [
    {
     "name": "stderr",
     "output_type": "stream",
     "text": [
      "[nltk_data] Downloading package punkt to\n",
      "[nltk_data]     C:\\Users\\balkr\\AppData\\Roaming\\nltk_data...\n",
      "[nltk_data]   Unzipping tokenizers\\punkt.zip.\n"
     ]
    }
   ],
   "source": [
    "import nltk\n",
    "# nltk.download('punkt')\n",
    "# Converting Text To Sentences\n",
    "sentence_list = nltk.sent_tokenize(txt)"
   ]
  },
  {
   "cell_type": "code",
   "execution_count": 8,
   "metadata": {},
   "outputs": [
    {
     "data": {
      "text/plain": [
       "['Digital image processing is the use of a digital computer to process digital images through an algorithm.',\n",
       " 'As a subcategory or field of digital signal processing, digital image processing has many advantages over analog image processing.',\n",
       " 'It allows a much wider range of algorithms to be applied to the input data and can avoid problems such as the build-up of noise and distortion during processing.',\n",
       " 'Since images are defined over two dimensions (perhaps more) digital image processing may be modeled in the form of multidimensional systems.',\n",
       " 'The generation and development of digital image processing are mainly affected by three factors: first, the development of computers; second, the development of mathematics (especially the creation and improvement of discrete mathematics theory); third, the demand for a wide range of applications in environment, agriculture, military, industry and medical science has increased.',\n",
       " 'Many of the techniques of digital image processing, or digital picture processing as it often was called, were developed in the 1960s, at Bell Laboratories, the Jet Propulsion Laboratory, Massachusetts Institute of Technology, University of Maryland, and a few other research facilities, with application to satellite imagery, wire-photo standards conversion, medical imaging, videophone, character recognition, and photograph enhancement.',\n",
       " 'The purpose of early image processing was to improve the quality of the image.',\n",
       " 'It was aimed for human beings to improve the visual effect of people.',\n",
       " 'In image processing, the input is a low-quality image, and the output is an image with improved quality.',\n",
       " 'Common image processing include image enhancement, restoration, encoding, and compression.',\n",
       " 'The first successful application was the American Jet Propulsion Laboratory (JPL).',\n",
       " 'They used image processing techniques such as geometric correction, gradation transformation, noise removal, etc.',\n",
       " 'on the thousands of lunar photos sent back by the Space Detector Ranger 7 in 1964, taking into account the position of the sun and the environment of the moon.',\n",
       " \"The impact of the successful mapping of the moon's surface map by the computer has been a huge success.\",\n",
       " 'Later, more complex image processing was performed on the nearly 100,000 photos sent back by the spacecraft, so that the topographic map, color map and panoramic mosaic of the moon were obtained, which achieved extraordinary results and laid a solid foundation for human landing on the moon.',\n",
       " 'The cost of processing was fairly high, however, with the computing equipment of that era.',\n",
       " 'That changed in the 1970s, when digital image processing proliferated as cheaper computers and dedicated hardware became available.',\n",
       " 'This led to images being processed in real-time, for some dedicated problems such as television standards conversion.',\n",
       " 'As general-purpose computers became faster, they started to take over the role of dedicated hardware for all but the most specialized and computer-intensive operations.',\n",
       " 'With the fast computers and signal processors available in the 2000s, digital image processing has become the most common form of image processing, and is generally used because it is not only the most versatile method, but also the cheapest.',\n",
       " 'The basis for modern image sensors is metal-oxide-semiconductor (MOS) technology, which originates from the invention of the MOSFET (MOS field-effect transistor) by Mohamed M. Atalla and Dawon Kahng at Bell Labs in 1959.',\n",
       " 'This led to the development of digital semiconductor image sensors, including the charge-coupled device (CCD) and later the CMOS sensor.',\n",
       " 'The charge-coupled device was invented by Willard S. Boyle and George E. Smith at Bell Labs in 1969.',\n",
       " 'While researching MOS technology, they realized that an electric charge was the analogy of the magnetic bubble and that it could be stored on a tiny MOS capacitor.',\n",
       " 'As it was fairly straightforward to fabricate a series of MOS capacitors in a row, they connected a suitable voltage to them so that the charge could be stepped along from one to the next.',\n",
       " 'The CCD is a semiconductor circuit that was later used in the first digital video cameras for television broadcasting.',\n",
       " 'The NMOS active-pixel sensor (APS) was invented by Olympus in Japan during the mid-1980s.',\n",
       " 'This was enabled by advances in MOS semiconductor device fabrication, with MOSFET scaling reaching smaller micron and then sub-micron levels.',\n",
       " \"The NMOS APS was fabricated by Tsutomu Nakamura's team at Olympus in 1985.\",\n",
       " \"The CMOS active-pixel sensor (CMOS sensor) was later developed by Eric Fossum's team at the NASA Jet Propulsion Laboratory in 1993.\",\n",
       " 'By 2007, sales of CMOS sensors had surpassed CCD sensors.',\n",
       " 'An important development in digital image compression technology was the discrete cosine transform (DCT), a lossy compression technique first proposed by Nasir Ahmed in 1972.',\n",
       " 'DCT compression became the basis for JPEG, which was introduced by the Joint Photographic Experts Group in 1992.',\n",
       " 'JPEG compresses images down to much smaller file sizes, and has become the most widely used image file format on the Internet.',\n",
       " 'Its highly efficient DCT compression algorithm was largely responsible for the wide proliferation of digital images and digital photos, with several billion JPEG images produced every day as of 2015.',\n",
       " 'Electronic signal processing was revolutionized by the wide adoption of MOS technology in the 1970s.',\n",
       " 'MOS integrated circuit technology was the basis for the first single-chip microprocessors and microcontrollers in the early 1970s, and then the first single-chip digital signal processor (DSP) chips in the late 1970s.',\n",
       " 'DSP chips have since been widely used in digital image processing.',\n",
       " 'The discrete cosine transform (DCT) image compression algorithm has been widely implemented in DSP chips, with many companies developing DSP chips based on DCT technology.',\n",
       " 'DCTs are widely used for encoding, decoding, video coding, audio coding, multiplexing, control signals, signaling, analog-to-digital conversion, formatting luminance and color differences, and color formats such as YUV444 and YUV411.',\n",
       " 'DCTs are also used for encoding operations such as motion estimation, motion compensation, inter-frame prediction, quantization, perceptual weighting, entropy encoding, variable encoding, and motion vectors, and decoding operations such as the inverse operation between different color formats (YIQ, YUV and RGB) for display purposes.',\n",
       " 'DCTs are also commonly used for high-definition television (HDTV) encoder/decoder chips.',\n",
       " 'In 1972, the engineer from British company EMI Housfield invented the X-ray computed tomography device for head diagnosis, which is what is usually called CT (computer tomography).',\n",
       " 'The CT nucleus method is based on the projection of the human head section and is processed by computer to reconstruct the cross-sectional image, which is called image reconstruction.',\n",
       " 'In 1975, EMI successfully developed a CT device for the whole body, which obtained a clear tomographic image of various parts of the human body.',\n",
       " 'In 1979, this diagnostic technique won the Nobel Prize.',\n",
       " 'Digital image processing technology for medical applications was inducted into the Space Foundation Space Technology Hall of Fame in 1994.',\n",
       " 'Digital image processing allows the use of much more complex algorithms, and hence, can offer both more sophisticated performance at simple tasks, and the implementation of methods which would be impossible by analogue means.',\n",
       " 'In particular, digital image processing is a concrete application of, and a practical technology based on: Some techniques which are used in digital image processing include: Digital filters are used to blur and sharpen digital images.',\n",
       " 'Filtering can be performed by: The following examples show both methods: image = checkerboard F = Fourier Transform of image Show Image: log(1+Absolute Value(F)) Images are typically padded before being transformed to the Fourier space, the highpass filtered images below illustrate the consequences of different padding techniques: Notice that the highpass filter shows extra edges when zero padded compared to the repeated edge padding.',\n",
       " 'MATLAB example for spatial domain highpass filtering.',\n",
       " 'Affine transformations enable basic image transformations including scale, rotate, translate, mirror and shear as is shown in the following examples: To apply the affine matrix to an image, the image is converted to matrix in which each entry corresponds to the pixel intensity at that location.',\n",
       " \"Then each pixel's location can be represented as a vector indicating the coordinates of that pixel in the image, [x, y], where x and y are the row and column of a pixel in the image matrix.\",\n",
       " 'This allows the coordinate to be multiplied by an affine-transformation matrix, which gives the position that the pixel value will be copied to in the output image.',\n",
       " 'However, to allow transformations that require translation transformations, 3 dimensional homogeneous coordinates are needed.',\n",
       " 'The third dimension is usually set to a non-zero constant, usually 1, so that the new coordinate is [x, y, 1].',\n",
       " 'This allows the coordinate vector to be multiplied by a 3 by 3 matrix, enabling translation shifts.',\n",
       " 'So the third dimension, which is the constant 1, allows translation.',\n",
       " 'Because matrix multiplication is associative, multiple affine transformations can be combined into a single affine transformation by multiplying the matrix of each individual transformation in the order that the transformations are done.',\n",
       " 'This results in a single matrix that, when applied to a point vector, gives the same result as all the individual transformations performed on the vector [x, y, 1] in sequence.',\n",
       " 'Thus a sequence of affine transformation matrices can be reduced to a single affine transformation matrix.',\n",
       " 'For example, 2 dimensional coordinates only allow rotation about the origin (0, 0).',\n",
       " 'But 3 dimensional homogeneous coordinates can be used to first translate any point to (0, 0), then perform the rotation, and lastly translate the origin (0, 0) back to the original point (the opposite of the first translation).',\n",
       " 'These 3 affine transformations can be combined into a single matrix, thus allowing rotation around any point in the image.',\n",
       " 'Mathematical morphology is suitable for denoising images.',\n",
       " 'Structuring element are important in Mathematical morphology.',\n",
       " 'The following examples are about Structuring elements.',\n",
       " 'The denoise function, image as I, and structuring element as B are shown as below and table.',\n",
       " 'eg.',\n",
       " \"( I ′ ) = [ 45 50 65 40 60 55 25 15 5 ] B = [ 1 2 1 2 1 1 1 0 3 ] {\\\\displaystyle (I')={\\\\begin{bmatrix}45&50&65\\\\\\\\40&60&55\\\\\\\\25&15&5\\\\end{bmatrix}}B={\\\\begin{bmatrix}1&2&1\\\\\\\\2&1&1\\\\\\\\1&0&3\\\\end{bmatrix}}} Define Dilation(I, B)(i,j) = m a x { I ( i + m , j + n ) + B ( m , n ) } {\\\\displaystyle max\\\\{I(i+m,j+n)+B(m,n)\\\\}} .\",\n",
       " \"Let Dilation(I,B) = D(I,B) D(I', B)(1,1) = m a x ( 45 + 1 , 50 + 2 , 65 + 1 , 40 + 2 , 60 + 1 , 55 + 1 , 25 + 1 , 15 + 0 , 5 + 3 ) = 66 {\\\\displaystyle max(45+1,50+2,65+1,40+2,60+1,55+1,25+1,15+0,5+3)=66} Define Erosion(I, B)(i,j) = m i n { I ( i + m , j + n ) − B ( m , n ) } {\\\\displaystyle min\\\\{I(i+m,j+n)-B(m,n)\\\\}} .\",\n",
       " \"Let Erosion(I,B) = E(I,B) E(I', B)(1,1) = m i n ( 45 − 1 , 50 − 2 , 65 − 1 , 40 − 2 , 60 − 1 , 55 − 1 , 25 − 1 , 15 − 0 , 5 − 3 ) = 2 {\\\\displaystyle min(45-1,50-2,65-1,40-2,60-1,55-1,25-1,15-0,5-3)=2} After dilation ( I ′ ) = [ 45 50 65 40 66 55 25 15 5 ] {\\\\displaystyle (I')={\\\\begin{bmatrix}45&50&65\\\\\\\\40&66&55\\\\\\\\25&15&5\\\\end{bmatrix}}} After erosion ( I ′ ) = [ 45 50 65 40 2 55 25 15 5 ] {\\\\displaystyle (I')={\\\\begin{bmatrix}45&50&65\\\\\\\\40&2&55\\\\\\\\25&15&5\\\\end{bmatrix}}} An opening method is just simply erosion first, and then dilation while the closing method is vice versa.\",\n",
       " 'In reality, the D(I,B) and E(I,B) can implemented by Convolution In order to apply the denoising method to an image, the image is converted into grayscale.',\n",
       " 'A mask with denoising method is logical matrix with [ 111 ; 111 ; 111 ] {\\\\displaystyle [111;111;111]} .',\n",
       " 'The denoising methods start from the center of the picture with half of height, half of width, and end with the image boundary of row number, column number.',\n",
       " 'Neighbor is a block in the original image with the boundary [the point below center: the point above, the point on left of center: the point on the right of center].',\n",
       " 'Convolution Neighbor and structuring element and then replace the center with a minimum of neighbor.',\n",
       " 'Take the Closing method for example.',\n",
       " 'Dilation first Then Erosion (Take the dilation image as input) Digital cameras generally include specialized digital image processing hardware – either dedicated chips or added circuitry on other chips – to convert the raw data from their image sensor into a color-corrected image in a standard image file format.',\n",
       " \"Westworld (1973) was the first feature film to use the digital image processing to pixellate photography to simulate an android's point of view.\",\n",
       " 'Face detection can be implemented with Mathematical morphology, Discrete cosine transform which is usually called DCT, and horizontal Projection (mathematics).',\n",
       " 'General method with feature-based method The feature-based method of face detection is using skin tone, edge detection, face shape, and feature of a face (like eyes, mouse, and etc) to achieve face detection.',\n",
       " 'The skin tone, face shape, and all the unique elements that only the human face have can be described as features.',\n",
       " 'Process explanation Image quality can be influenced by camera vibration, over-exposure, gray level distribution too centralized, and noise, etc.',\n",
       " 'For example, noise problem can be solved by Smoothing method while gray level distribution problem can be improved by Histogram Equalization.',\n",
       " 'Smoothing method In drawing, if there is some dissatisfied color, taking some color around dissatisfied color and averaging them.',\n",
       " 'This is an easy way to think of Smoothing method.',\n",
       " 'Smoothing method can be implemented with mask and Convolution.',\n",
       " 'Take the small image and mask for instance as below.',\n",
       " 'image is [ 2 5 6 5 3 1 4 6 1 28 30 2 7 3 2 2 ] {\\\\displaystyle {\\\\begin{bmatrix}2&5&6&5\\\\\\\\3&1&4&6\\\\\\\\1&28&30&2\\\\\\\\7&3&2&2\\\\end{bmatrix}}} mask is [ 1 / 9 1 / 9 1 / 9 1 / 9 1 / 9 1 / 9 1 / 9 1 / 9 1 / 9 ] {\\\\displaystyle {\\\\begin{bmatrix}1/9&1/9&1/9\\\\\\\\1/9&1/9&1/9\\\\\\\\1/9&1/9&1/9\\\\end{bmatrix}}} After Convolution and smoothing, image is [ 2 5 6 5 3 9 10 6 1 9 9 2 7 3 2 2 ] {\\\\displaystyle {\\\\begin{bmatrix}2&5&6&5\\\\\\\\3&9&10&6\\\\\\\\1&9&9&2\\\\\\\\7&3&2&2\\\\end{bmatrix}}} Oberseving image[1, 1], image[1, 2], image[2, 1], and image[2, 2].',\n",
       " 'The original image pixel is 1, 4, 28, 30.',\n",
       " 'After smoothing mask, the pixel becomes 9, 10, 9, 9 respectively.',\n",
       " 'new image[1, 1] = 1 9 {\\\\displaystyle {\\\\tfrac {1}{9}}} * (image[0,0]+image[0,1]+image[0,2]+image[1,0]+image[1,1]+image[1,2]+image[2,0]+image[2,1]+image[2,2]) new image[1, 1] = floor( 1 9 {\\\\displaystyle {\\\\tfrac {1}{9}}} * (2+5+6+3+1+4+1+28+30)) = 9 new image[1, 2] = floor({ 1 9 {\\\\displaystyle {\\\\tfrac {1}{9}}} * (5+6+5+1+4+6+28+30+2)) = 10 new image[2, 1] = floor( 1 9 {\\\\displaystyle {\\\\tfrac {1}{9}}} * (3+1+4+1+28+30+73+3+2)) = 9 new image[2, 2] = floor( 1 9 {\\\\displaystyle {\\\\tfrac {1}{9}}} * (1+4+6+28+30+2+3+2+2)) = 9 Gray Level Histogram method Generally, given a gray level histogram from an image as below.',\n",
       " 'Changing the histogram to uniform distribution from an image is usually what we called Histogram equalization.',\n",
       " 'In discrete time, the area of gray level histogram is ∑ i = 0 k H ( p i ) {\\\\displaystyle \\\\sum _{i=0}^{k}H(p_{i})} (see figure 1) while the area of uniform distribution is ∑ i = 0 k G ( q i ) {\\\\displaystyle \\\\sum _{i=0}^{k}G(q_{i})} (see figure 2).',\n",
       " \"It's clear that the area won't change, so ∑ i = 0 k H ( p i ) = ∑ i = 0 k G ( q i ) {\\\\displaystyle \\\\sum _{i=0}^{k}H(p_{i})=\\\\sum _{i=0}^{k}G(q_{i})} .\",\n",
       " 'From the uniform distribution, the probability of q i {\\\\displaystyle q_{i}} is N 2 q k − q 0 {\\\\displaystyle {\\\\tfrac {N^{2}}{q_{k}-q_{0}}}} while the 0 < i < k {\\\\displaystyle 0<i<k} In continuous time, the equation is ∫ q 0 q N 2 q k − q 0 d s = ∫ p 0 p H ( s ) d s {\\\\displaystyle \\\\displaystyle \\\\int _{q_{0}}^{q}{\\\\tfrac {N^{2}}{q_{k}-q_{0}}}ds=\\\\displaystyle \\\\int _{p_{0}}^{p}H(s)ds} .',\n",
       " 'Moreover, based on the definition of a function, the Gray level histogram method is like finding a function f {\\\\displaystyle f} that satisfies f(p)=q.',\n",
       " 'with Matlab, salt & pepper with 0.01 parameter is added to the original image in order to create a noisy image.',\n",
       " 'There were significant advancements in fatigue monitoring technology the past decade.',\n",
       " 'These innovative technology solutions are now commercially available and offer real safety benefits to drivers, operators and other shift workers across all industries.',\n",
       " 'Software developers, engineers and scientists develop fatigue detection software using various physiological cues to determine the state of fatigue or drowsiness.',\n",
       " 'The measurement of brain activity (electroencephalogram) is widely accepted as the standard in fatigue monitoring.',\n",
       " 'Other technology used to determine fatigue related impairment include behavioural symptom measurements such as; eye behaviour, gaze direction, micro-corrections in steering and throttle use as well as heart rate variability.',\n",
       " '[citation needed]']"
      ]
     },
     "execution_count": 8,
     "metadata": {},
     "output_type": "execute_result"
    }
   ],
   "source": [
    "sentence_list"
   ]
  },
  {
   "cell_type": "code",
   "execution_count": 52,
   "metadata": {},
   "outputs": [],
   "source": [
    "# Find Weighted Frequency of Occurrence\n",
    "\n",
    "# we use the formatted_article_text variable to find the frequency of occurrence\n",
    "# since it doesn't contain punctuation, digits, or other special characters.\n",
    "\n",
    "stopwords = nltk.corpus.stopwords.words('english')\n",
    "\n",
    "word_frequencies = {}\n",
    "for word in nltk.word_tokenize(formatted_article_text):\n",
    "    if word not in stopwords:\n",
    "        if word not in word_frequencies.keys():\n",
    "            word_frequencies[word] = 1\n",
    "        else:\n",
    "            word_frequencies[word] += 1\n",
    "\n",
    "# print(word_frequencies)  \n",
    "\n",
    "# Finally, to find the weighted frequency, we can simply divide the number of occurances of all the words\n",
    "# by the frequency of the most occurring word.\n",
    "\n",
    "maximum_frequncy = max(word_frequencies.values())\n",
    "\n",
    "for word in word_frequencies.keys():\n",
    "    word_frequencies[word] = (word_frequencies[word]/maximum_frequncy)\n",
    "\n",
    "# print(word_frequencies)      "
   ]
  },
  {
   "cell_type": "code",
   "execution_count": 53,
   "metadata": {},
   "outputs": [],
   "source": [
    "# Calculating Sentence Scores\n",
    "\n",
    "sentence_scores = {}\n",
    "for sent in sentence_list:\n",
    "    for word in nltk.word_tokenize(sent.lower()):\n",
    "        if word in word_frequencies.keys():\n",
    "            if len(sent.split(' ')) < 30:\n",
    "                if sent not in sentence_scores.keys():\n",
    "                    sentence_scores[sent] = word_frequencies[word]\n",
    "                else:\n",
    "                    sentence_scores[sent] += word_frequencies[word]\n",
    "                    \n",
    "                    \n",
    "                    \n",
    "# print(sentence_scores)    "
   ]
  },
  {
   "cell_type": "code",
   "execution_count": 54,
   "metadata": {},
   "outputs": [
    {
     "name": "stdout",
     "output_type": "stream",
     "text": [
      "As a subcategory or field of digital signal processing, digital image processing has many advantages over analog image processing.  In computer science, digital image processing is the use of computer algorithms to perform image processing on digital images. In image processing, the input is a low-quality image, and the out put is an image with improved quality. Common image processing include image enhancement, restoration, encoding, and compression. The purpose of early image processing was to improve the quality of the image. DSP chips have since been widely used in digital image processing. Westworld (1973) was the first feature film to use the digital image processing to pixellate photography to simulate an android's point of view.\n"
     ]
    }
   ],
   "source": [
    "# Getting the Summary\n",
    "\n",
    "import heapq\n",
    "\n",
    "# we use the heapq library and call its nlargest function to retrieve the top 7 sentences with the highest scores.\n",
    "summary_sentences = heapq.nlargest(7, sentence_scores, key=sentence_scores.get)\n",
    "\n",
    "summary = ' '.join(summary_sentences)\n",
    "print(summary)\n"
   ]
  }
 ],
 "metadata": {
  "kernelspec": {
   "display_name": "Python 3",
   "language": "python",
   "name": "python3"
  },
  "language_info": {
   "codemirror_mode": {
    "name": "ipython",
    "version": 3
   },
   "file_extension": ".py",
   "mimetype": "text/x-python",
   "name": "python",
   "nbconvert_exporter": "python",
   "pygments_lexer": "ipython3",
   "version": "3.8.8"
  }
 },
 "nbformat": 4,
 "nbformat_minor": 2
}

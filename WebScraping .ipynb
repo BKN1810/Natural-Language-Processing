{
 "cells": [
  {
   "cell_type": "code",
   "execution_count": 19,
   "metadata": {},
   "outputs": [],
   "source": [
    "from bs4 import BeautifulSoup as soup\n",
    "import urllib.request \n",
    "\n",
    "url=\"https://www.flipkart.com/search?q=iphone&otracker=search&as-show=on&as=off&as-pos=0&as\"\n",
    "\n",
    "scraped_data = urllib.request.urlopen(url)\n",
    "html_page = scraped_data.read()\n",
    "\n",
    "parsed_page = soup(html_page,'html.parser')\n",
    "\n",
    "# print(parsed_page)\n",
    "\n",
    "container=parsed_page.findAll(\"div\",{\"class\":\"bhgxx2 col-12-12\"})\n",
    "#print(len(container))\n",
    "#print(soup.prettify(container[3]))\n",
    "\n",
    "contain=container[0]\n",
    "price=contain.findAll(\"div\",{\"class\":\"col col-5-12 _2o7WAb\"})\n",
    "# print(price[0].text)"
   ]
  },
  {
   "cell_type": "code",
   "execution_count": 28,
   "metadata": {},
   "outputs": [],
   "source": [
    "import requests \n",
    "from bs4 import BeautifulSoup \n",
    "import csv \n",
    "  \n",
    "URL = \"http://www.values.com/inspirational-quotes\"\n",
    "r = requests.get(URL) \n",
    "  \n",
    "soup = BeautifulSoup(r.content, 'html5lib') \n",
    "  \n",
    "quotes=[]  # a list to store quotes \n",
    "  \n",
    "table = soup.find('div', attrs = {'id':'container'}) "
   ]
  }
 ],
 "metadata": {
  "kernelspec": {
   "display_name": "Python 3",
   "language": "python",
   "name": "python3"
  },
  "language_info": {
   "codemirror_mode": {
    "name": "ipython",
    "version": 3
   },
   "file_extension": ".py",
   "mimetype": "text/x-python",
   "name": "python",
   "nbconvert_exporter": "python",
   "pygments_lexer": "ipython3",
   "version": "3.7.3"
  }
 },
 "nbformat": 4,
 "nbformat_minor": 2
}

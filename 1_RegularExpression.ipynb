{
 "cells": [
  {
   "cell_type": "code",
   "execution_count": 1,
   "metadata": {},
   "outputs": [
    {
     "data": {
      "text/plain": [
       "' hello nlp classes'"
      ]
     },
     "execution_count": 1,
     "metadata": {},
     "output_type": "execute_result"
    }
   ],
   "source": [
    "text= \" HELLO NLP classes\"\n",
    "text=text.lower()\n",
    "text"
   ]
  },
  {
   "cell_type": "markdown",
   "metadata": {},
   "source": [
    "### RegEx Functions\n",
    "**Function**---------------\t**Description** <br>\n",
    "**findall**---------------\tReturns a list containing all matches <br>\n",
    "**search**---------------\tReturns a Match object if there is a match anywhere in the string <br>\n",
    "**split**---------------\tReturns a list where the string has been split at each match <br>\n",
    "**sub**-------------------Replaces one or many matches with a string"
   ]
  },
  {
   "cell_type": "markdown",
   "metadata": {},
   "source": [
    "### Metacharacters\n",
    "• (a period (dot)): This expression matches any single character except newline \\n.  \"he..o\" <br>\n",
    "• \\w: This expression will match a character or a digit equivalent to [a-z A-Z 0-9] <br>\n",
    "• \\W (upper case W) matches any non-word character. <br>\n",
    "• \\s: This expression (lowercase s) matches a single whitespace character - space, newline, \n",
    "    return, tab, form [\\n\\r\\t\\f]. <br>\n",
    "• \\S: This expression matches any non-whitespace character. <br>\n",
    "• \\t: This expression performs a tab operation. <br>\n",
    "• \\n: This expression is used for a newline character. <br>\n",
    "• \\r: This expression is used for a return character. <br>\n",
    "• \\d: Decimal digit [0-9]. <br>\n",
    "• \\D\tReturns a match where the string DOES NOT contain digits <br>\n",
    "• \\A\tReturns a match if the specified characters are at the beginning of the string\t\"\\AThe\" <br>\n",
    "• \\b\tReturns a match where the specified characters are at the beginning or at the end of a word <br>\n",
    "  (the \"r\" in the beginning is making sure that the string is being treated as a \"raw string\")\tr\"\\bain\"\n",
    "   r\"ain\\b\"\t\n",
    "• \\B\tReturns a match where the specified characters are present, but NOT at the beginning (or at the end) of a word <br>\n",
    "• \\Z\tReturns a match if the specified characters are at the end of the string\t\"Spain\\Z\" <br>\n",
    "• ^: This expression is used at the start of the string. <br>\n",
    "• $: This expression is used at the end of the string.  <br>\n",
    "•  []\tA set of characters\t          \"[a-m]\"\t<br>\n",
    "• *\tZero or more occurrences        \t\"he.*o\" <br>\n",
    "• ?\tZero or one occurrences\t          \"he.?o\"<br>\n",
    "• +\tOne or more occurrences\t          \"he.+o\"<br>\n",
    "• {}\tExactly the specified number of occurrences\t    \"he{2}o\"<br>\n",
    "• |\tEither or\t       \"falls|stays\"<br>\n",
    "• ()\tCapture and group<br>\n",
    "• \\\tSignals a special sequence (can also be used to escape special characters)\t\"\\d\"<br>"
   ]
  },
  {
   "cell_type": "code",
   "execution_count": 2,
   "metadata": {},
   "outputs": [],
   "source": [
    "import re"
   ]
  },
  {
   "cell_type": "code",
   "execution_count": 3,
   "metadata": {},
   "outputs": [],
   "source": [
    "# Example --Search the string to see if it starts with \"The\" and ends with \"Nepal\"\n",
    "#   ^: This expression is used at the start of the string.\n",
    "#    $: This expression is used at the end of the string."
   ]
  },
  {
   "cell_type": "code",
   "execution_count": 9,
   "metadata": {},
   "outputs": [
    {
     "data": {
      "text/plain": [
       "<re.Match object; span=(0, 39), match='The mountains in beautiful Nepal Nepal.'>"
      ]
     },
     "execution_count": 9,
     "metadata": {},
     "output_type": "execute_result"
    }
   ],
   "source": [
    "txt = \"The mountains in beautiful Nepal Nepal.\"\n",
    "x = re.search(\"^The.*Nepal.$\", txt)\n",
    "x"
   ]
  },
  {
   "cell_type": "code",
   "execution_count": 12,
   "metadata": {},
   "outputs": [
    {
     "name": "stdout",
     "output_type": "stream",
     "text": [
      "['Apple']\n",
      "Yes, there is a match!\n"
     ]
    }
   ],
   "source": [
    "txt = \"Apple The mountains in beautiful Nepal.\"\n",
    "#Check if the string starts with \"The\":\n",
    "x = re.findall(\"\\AApple\", txt)\n",
    "print(x)\n",
    "if x:\n",
    "  print(\"Yes, there is a match!\")\n",
    "else:\n",
    "  print(\"No match\")"
   ]
  },
  {
   "cell_type": "code",
   "execution_count": 16,
   "metadata": {},
   "outputs": [
    {
     "name": "stdout",
     "output_type": "stream",
     "text": [
      "['The', 'mountains', 'in', 'beautiful', 'Nepal.', 'NLP', 'Classes', 'is', 'running.']\n"
     ]
    }
   ],
   "source": [
    "# Split at each white-space character:\n",
    "txt = \"The mountains in beautiful Nepal. NLP Classes is running.\"\n",
    "x = re.split(\"\\s\", txt)\n",
    "print(x)"
   ]
  },
  {
   "cell_type": "code",
   "execution_count": 18,
   "metadata": {},
   "outputs": [
    {
     "name": "stdout",
     "output_type": "stream",
     "text": [
      "['The', 'mountains', 'in beautiful Nepal.The Pokhara is beautiful city.']\n",
      "==================================================================\n"
     ]
    }
   ],
   "source": [
    "# Split the string only at the first occurrence:\n",
    "txt = \"The mountains in beautiful Nepal.The Pokhara is beautiful city.\"\n",
    "x = re.split(\"\\s\", txt, 2)\n",
    "print(x)\n",
    "print(\"==================================================================\")"
   ]
  },
  {
   "cell_type": "code",
   "execution_count": 21,
   "metadata": {},
   "outputs": [
    {
     "name": "stdout",
     "output_type": "stream",
     "text": [
      "['Twelve:', ' Eighty nine:', ' Three:', '']\n"
     ]
    }
   ],
   "source": [
    "string = 'Twelve:12 Eighty nine:8934 Three:3'\n",
    "pattern = '\\d+'\n",
    "result = re.split(pattern, string) \n",
    "print(result)"
   ]
  },
  {
   "cell_type": "code",
   "execution_count": 27,
   "metadata": {},
   "outputs": [
    {
     "name": "stdout",
     "output_type": "stream",
     "text": [
      "['Twelve:', ' Eighty nine:', ' Nine:9.']\n"
     ]
    }
   ],
   "source": [
    "string = 'Twelve:12 Eighty nine:89 Nine:9.'\n",
    "pattern = '\\d+'\n",
    "# maxsplit = 1\n",
    "# split only at the first occurrence\n",
    "result = re.split(pattern, string,2) \n",
    "print(result)"
   ]
  },
  {
   "cell_type": "code",
   "execution_count": 32,
   "metadata": {},
   "outputs": [
    {
     "name": "stdout",
     "output_type": "stream",
     "text": [
      "I like This book\n"
     ]
    }
   ],
   "source": [
    "# Replace every punctuation with white space\n",
    "txt = \"I.%^& like. This,. book.!\"\n",
    "txt1 = re.sub(r'[^\\w\\s]',\"\",txt)\n",
    "print(txt1)"
   ]
  },
  {
   "cell_type": "code",
   "execution_count": 30,
   "metadata": {},
   "outputs": [
    {
     "name": "stdout",
     "output_type": "stream",
     "text": [
      "The#mountains#in#beautiful#Nepal.The#Pokhara#is#beautiful#city.\n"
     ]
    }
   ],
   "source": [
    "# Replace every white-space character with #:\n",
    "txt = \"The mountains in beautiful Nepal.The Pokhara is beautiful city.\"\n",
    "x = re.sub(\"\\s\", \"#\", txt)\n",
    "print(x)"
   ]
  },
  {
   "cell_type": "code",
   "execution_count": 33,
   "metadata": {},
   "outputs": [
    {
     "name": "stdout",
     "output_type": "stream",
     "text": [
      "The#mountains#in beautiful Nepal.The Pokhara is beautiful city.\n"
     ]
    }
   ],
   "source": [
    "# Replace the first 2 occurrences:\n",
    "txt = \"The mountains in beautiful Nepal.The Pokhara is beautiful city.\"\n",
    "x = re.sub(\"\\s\", \"#\", txt, 2)\n",
    "print(x)"
   ]
  },
  {
   "cell_type": "code",
   "execution_count": 3,
   "metadata": {},
   "outputs": [
    {
     "name": "stdout",
     "output_type": "stream",
     "text": [
      "\\b match gives:  Aookie\n"
     ]
    }
   ],
   "source": [
    "import re\n",
    "# Example for \\b\n",
    "print(\"\\\\b match gives: \",re.search(r'\\b[A-E]ookie', 'Cookie').group())"
   ]
  },
  {
   "cell_type": "code",
   "execution_count": 5,
   "metadata": {},
   "outputs": [
    {
     "name": "stdout",
     "output_type": "stream",
     "text": [
      "Caaaaaaooooookie\n"
     ]
    }
   ],
   "source": [
    "# Checks for any occurrence of a or o or both in the given sequence\n",
    "print(re.search(r'Ca*o*kie', 'Caaaaaaooooookie').group())"
   ]
  },
  {
   "cell_type": "code",
   "execution_count": 7,
   "metadata": {},
   "outputs": [
    {
     "name": "stdout",
     "output_type": "stream",
     "text": [
      "Cooooooooookie\n"
     ]
    }
   ],
   "source": [
    "# + Checks if the preceding character appears one or more times starting from that position.\n",
    "print(re.search(r'Co+kie', 'Cooooooooookie').group())"
   ]
  },
  {
   "cell_type": "code",
   "execution_count": 11,
   "metadata": {},
   "outputs": [
    {
     "name": "stdout",
     "output_type": "stream",
     "text": [
      "Colour\n"
     ]
    }
   ],
   "source": [
    "# Checks for exactly zero or one occurrence of a or o or both in the given sequence\n",
    "print(re.search(r'Colou?r', 'Colour').group())"
   ]
  },
  {
   "cell_type": "code",
   "execution_count": 14,
   "metadata": {},
   "outputs": [
    {
     "name": "stdout",
     "output_type": "stream",
     "text": [
      " Nine Digits:   098765432\n",
      " Ten Digits:   0987654322\n"
     ]
    }
   ],
   "source": [
    "# {x, y} - Repeat at least x times but no more than y times.\n",
    "print(\" Nine Digits:  \",re.search(r'\\d{9,10}', '098765432').group())\n",
    "print(\" Ten Digits:  \",re.search(r'\\d{9,10}', '0987654322').group())\n",
    "#print(\" Eight Digits:  \",re.search(r'\\d{9,10}', '09876532').group())"
   ]
  },
  {
   "cell_type": "code",
   "execution_count": 15,
   "metadata": {},
   "outputs": [
    {
     "name": "stdout",
     "output_type": "stream",
     "text": [
      "The first white-space character is located in position: 4\n"
     ]
    }
   ],
   "source": [
    "txt = \"The mountains in beautiful Nepal.\"\n",
    "x = re.search(\"m\", txt)\n",
    "print(\"The first white-space character is located in position:\", x.start())"
   ]
  },
  {
   "cell_type": "code",
   "execution_count": 22,
   "metadata": {},
   "outputs": [
    {
     "name": "stdout",
     "output_type": "stream",
     "text": [
      "(14, 16)\n",
      "The mountains in beautiful Nepal .The Pokhara.\n",
      "in\n"
     ]
    }
   ],
   "source": [
    "# Print the position (start- and end-position) of the first match occurrence.\n",
    "# The regular expression looks for any words that starts with an upper case \"T\":\n",
    "txt = \"The mountains in beautiful Nepal .The Pokhara.\"\n",
    "x = re.search(r\"\\bi\\w+\", txt)\n",
    "print(x.span())\n",
    "print(x.string)\n",
    "print(x.group())"
   ]
  },
  {
   "cell_type": "code",
   "execution_count": 28,
   "metadata": {},
   "outputs": [
    {
     "data": {
      "text/plain": [
       "['The', 'The']"
      ]
     },
     "execution_count": 28,
     "metadata": {},
     "output_type": "execute_result"
    }
   ],
   "source": [
    "# Print the position (start- and end-position) of the first match occurrence.\n",
    "# The regular expression looks for any words that starts with an upper case \"T\":\n",
    "txt = \"The mountains in beautiful Nepal. The Pokhara.\"\n",
    "x = re.findall(r\"The\", txt)\n",
    "x"
   ]
  },
  {
   "cell_type": "code",
   "execution_count": 29,
   "metadata": {},
   "outputs": [
    {
     "name": "stdout",
     "output_type": "stream",
     "text": [
      "### mountains in beautiful Nepal.### Pokhara is beautiful city.\n"
     ]
    }
   ],
   "source": [
    "# replace The by ###\n",
    "txt = \"The mountains in beautiful Nepal.The Pokhara is beautiful city.\"\n",
    "x = re.sub(\"The\", \"###\", txt)\n",
    "print(x)"
   ]
  },
  {
   "cell_type": "code",
   "execution_count": 36,
   "metadata": {},
   "outputs": [
    {
     "name": "stdout",
     "output_type": "stream",
     "text": [
      "['23', '34', '44', '40', '50']\n",
      "['23', '34', '44', '40', '50']\n",
      "['Ram', 'Hari', 'Gopal', 'Shyam', 'Gita']\n"
     ]
    }
   ],
   "source": [
    "NameAge=''' Ram is 23 and Hari is 34, Gopal is 44\n",
    "            Shyam is 40 and Gita is 50'''\n",
    "ages=re.findall(r'[0-9][0-9]',NameAge) # d{1,2} for two digit.{1,3} for three digits\n",
    "print(ages)\n",
    "ages=re.findall(r'\\d{1,2}',NameAge) \n",
    "print(ages)\n",
    "Names=re.findall(r'[A-Z][a-z]+',NameAge) # First letter must be Capital.\n",
    "print(Names)"
   ]
  },
  {
   "cell_type": "code",
   "execution_count": 37,
   "metadata": {},
   "outputs": [
    {
     "name": "stdout",
     "output_type": "stream",
     "text": [
      "['12', '89', '3454']\n"
     ]
    }
   ],
   "source": [
    "# Program to extract numbers from a string\n",
    "string = 'hello 12 hi 89. Howdy 3454.'\n",
    "pattern = '\\d+'\n",
    "result = re.findall(pattern, string) \n",
    "print(result)"
   ]
  },
  {
   "cell_type": "code",
   "execution_count": 38,
   "metadata": {},
   "outputs": [
    {
     "name": "stdout",
     "output_type": "stream",
     "text": [
      "{'Ram': '23', 'Hari': '34', 'Gopal': '44', 'Shyam': '40', 'Gita': '50'}\n"
     ]
    }
   ],
   "source": [
    "dict={}\n",
    "x=0\n",
    "for str in Names:\n",
    "        dict[str]=ages[x]\n",
    "        x+=1\n",
    "print(dict)"
   ]
  },
  {
   "cell_type": "code",
   "execution_count": 42,
   "metadata": {},
   "outputs": [
    {
     "name": "stdout",
     "output_type": "stream",
     "text": [
      "inform\n",
      "inform\n"
     ]
    },
    {
     "data": {
      "text/plain": [
       "'inform'"
      ]
     },
     "execution_count": 42,
     "metadata": {},
     "output_type": "execute_result"
    }
   ],
   "source": [
    "# Finding all word present in sentences\n",
    "allinform=re.findall(\"inform\",\" I need to inform to hari or Ram this latest information.\")\n",
    "\n",
    "for i in allinform:\n",
    "    print(i)\n",
    "    \n",
    "allinform[0]\n",
    "allinform[1]"
   ]
  },
  {
   "cell_type": "code",
   "execution_count": 43,
   "metadata": {},
   "outputs": [
    {
     "name": "stdout",
     "output_type": "stream",
     "text": [
      "(11, 17)\n",
      "(45, 51)\n"
     ]
    }
   ],
   "source": [
    "# to find the index of matching words\n",
    "str=\" I need to inform to hari or Ram this latest information.\"\n",
    "for x in re.finditer(\"inform\",str):\n",
    "    index=x.span()\n",
    "    print(index)"
   ]
  },
  {
   "cell_type": "code",
   "execution_count": 46,
   "metadata": {},
   "outputs": [
    {
     "name": "stdout",
     "output_type": "stream",
     "text": [
      "hat\n"
     ]
    }
   ],
   "source": [
    "str=\"Sat, hat, mat, pat\"\n",
    "allstr=re.findall(\"[sh]at\",str) \n",
    "# Sat has capital S so not printed as output.\n",
    "\n",
    "for x in allstr:\n",
    "    print(x)"
   ]
  },
  {
   "cell_type": "code",
   "execution_count": 47,
   "metadata": {},
   "outputs": [
    {
     "name": "stdout",
     "output_type": "stream",
     "text": [
      "hat\n",
      "mat\n",
      "kat\n",
      "============================\n",
      "Sat\n",
      "pat\n",
      "Lat\n"
     ]
    }
   ],
   "source": [
    "str=\"Sat, hat, mat, pat,kat, Lat,\"\n",
    "allstr=re.findall(\"[h-m]at\",str)  # print in between h to m small letters\n",
    "\n",
    "allstr1=re.findall(\"[^h-m]at\",str)  # print except the ranges in between h to m small letters\n",
    "\n",
    "for x in allstr:\n",
    "    print(x)\n",
    "    \n",
    "print(\"============================\") \n",
    "\n",
    "for y in allstr1:\n",
    "    print(y)"
   ]
  },
  {
   "cell_type": "code",
   "execution_count": 52,
   "metadata": {},
   "outputs": [
    {
     "name": "stdout",
     "output_type": "stream",
     "text": [
      "Apple,banana,rice,Orange,milk, Orange\n"
     ]
    }
   ],
   "source": [
    "# replacing a string\n",
    "Fruits=\"Apple,banana,rice,dyal,milk, dwdgsfsdhl\"\n",
    "regx=re.compile(\"[d]\\w+[l]\")\n",
    "Fruits=regx.sub(\"Orange\",Fruits)\n",
    "print(Fruits)"
   ]
  },
  {
   "cell_type": "code",
   "execution_count": 54,
   "metadata": {},
   "outputs": [
    {
     "name": "stdout",
     "output_type": "stream",
     "text": [
      "A regular expression\n",
      "is a sequence of characters\n",
      "that define a search pattern\n",
      "A regular expression is a sequence of characters that define a search pattern\n"
     ]
    }
   ],
   "source": [
    "# removing \\n\n",
    "str='''A regular expression\n",
    "is a sequence of characters\n",
    "that define a search pattern'''\n",
    "print(str)\n",
    "regx=re.compile(\"\\n\")\n",
    "str1=regx.sub(\" \",str)    # replacing \\n by \" \" space\n",
    "print(str1)"
   ]
  },
  {
   "cell_type": "code",
   "execution_count": 18,
   "metadata": {},
   "outputs": [
    {
     "name": "stdout",
     "output_type": "stream",
     "text": [
      "Matches: 2\n",
      "Matches: 5\n"
     ]
    }
   ],
   "source": [
    "num=\"127, 546, 12405, 555, 45687,98\"\n",
    "print(\"Matches:\", len(re.findall(\"\\d{5,7}\",num)))\n",
    "# 3 is the length of string\n",
    "print(\"Matches:\", len(re.findall(\"\\d{3}\",num)))"
   ]
  },
  {
   "cell_type": "code",
   "execution_count": 56,
   "metadata": {},
   "outputs": [
    {
     "name": "stdout",
     "output_type": "stream",
     "text": [
      "1...It is mobile number\n"
     ]
    }
   ],
   "source": [
    "mph=\"A27-113-2890\"\n",
    "if re.search(\"\\w{3}-\\w{3}-\\w{4}\",mph):\n",
    "    print(\"1...It is mobile number\")"
   ]
  },
  {
   "cell_type": "code",
   "execution_count": 57,
   "metadata": {},
   "outputs": [
    {
     "name": "stdout",
     "output_type": "stream",
     "text": [
      "2...It is mobile number\n"
     ]
    }
   ],
   "source": [
    "mph=\"985-a13-2890\"\n",
    "if re.search(\"\\d{3}-\\w{3}-\\d{4}\",mph):\n",
    "    print(\"2...It is mobile number\")    "
   ]
  },
  {
   "cell_type": "code",
   "execution_count": 58,
   "metadata": {},
   "outputs": [
    {
     "name": "stdout",
     "output_type": "stream",
     "text": [
      "3...It is mobile number\n"
     ]
    }
   ],
   "source": [
    "mph=\"985-113-2890\"\n",
    "if re.search(\"\\d{3}-\\d{3}-\\d{4}\",mph):\n",
    "    print(\"3...It is mobile number\")   "
   ]
  },
  {
   "cell_type": "code",
   "execution_count": 59,
   "metadata": {},
   "outputs": [
    {
     "name": "stdout",
     "output_type": "stream",
     "text": [
      "Full name is valid\n"
     ]
    }
   ],
   "source": [
    "name=\" Ram Thapa\"\n",
    "if re.search(\"\\w{2,30}\\s\\w{2,10}\",name):\n",
    "    # \\w{2,30} is length of string 2 to 30\n",
    "    print(\"Full name is valid\")"
   ]
  },
  {
   "cell_type": "markdown",
   "metadata": {},
   "source": [
    "###  Grouping in Regular Expressions"
   ]
  },
  {
   "cell_type": "code",
   "execution_count": 60,
   "metadata": {},
   "outputs": [
    {
     "name": "stdout",
     "output_type": "stream",
     "text": [
      "Email address: support@wrc.wrwrwdu.npe\n",
      "Username: support\n",
      "Host: wrc.wrwrwdu.npe\n"
     ]
    }
   ],
   "source": [
    "# Parts of a regular expression pattern bounded by parenthesis () are called groups.\n",
    "# The parenthesis does not change what the expression matches, \n",
    "# but rather forms groups within the matched sequence\n",
    "statement = 'Please contact us at: support@wrc.wrwrwdu.npe'\n",
    "match = re.search(r'([\\w\\.-]+)@([\\w\\.-]+)', statement)\n",
    "if statement:\n",
    "  print(\"Email address:\", match.group()) # The whole matched text\n",
    "  print(\"Username:\", match.group(1)) # The username (group 1)\n",
    "  print(\"Host:\", match.group(2)) # The host (group 2)"
   ]
  },
  {
   "cell_type": "code",
   "execution_count": 61,
   "metadata": {},
   "outputs": [
    {
     "name": "stdout",
     "output_type": "stream",
     "text": [
      "Email address: support@wrc.edu.np\n",
      "Username: support\n",
      "Host: wrc.edu.np\n"
     ]
    }
   ],
   "source": [
    "# Another way of doing the same is with the usage of <> brackets instead. \n",
    "# The syntax for creating named group is: (?P<name>...). \n",
    "# Replace the name part with the name you want to give to your group. \n",
    "# The ... represent the rest of the matching syntax.\n",
    "\n",
    "statement = 'Please contact us at: support@wrc.edu.np'\n",
    "match = re.search(r'(?P<email>(?P<username>[\\w\\.-]+)@(?P<host>[\\w\\.-]+))', statement)\n",
    "if statement:\n",
    "  print(\"Email address:\", match.group('email'))\n",
    "  print(\"Username:\", match.group('username'))\n",
    "  print(\"Host:\", match.group('host'))"
   ]
  },
  {
   "cell_type": "code",
   "execution_count": null,
   "metadata": {},
   "outputs": [],
   "source": []
  }
 ],
 "metadata": {
  "kernelspec": {
   "display_name": "Python 3",
   "language": "python",
   "name": "python3"
  },
  "language_info": {
   "codemirror_mode": {
    "name": "ipython",
    "version": 3
   },
   "file_extension": ".py",
   "mimetype": "text/x-python",
   "name": "python",
   "nbconvert_exporter": "python",
   "pygments_lexer": "ipython3",
   "version": "3.8.8"
  }
 },
 "nbformat": 4,
 "nbformat_minor": 2
}
